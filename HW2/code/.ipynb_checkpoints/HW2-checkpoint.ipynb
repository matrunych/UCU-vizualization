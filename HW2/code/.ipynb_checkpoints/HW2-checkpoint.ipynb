{
 "cells": [
  {
   "cell_type": "code",
   "execution_count": 1,
   "metadata": {},
   "outputs": [],
   "source": [
    "import pandas as pd\n",
    "import altair as alt\n",
    "import numpy as np\n",
    "import datetime"
   ]
  },
  {
   "cell_type": "code",
   "execution_count": 5,
   "metadata": {
    "scrolled": false
   },
   "outputs": [
    {
     "data": {
      "text/html": [
       "<div>\n",
       "<style scoped>\n",
       "    .dataframe tbody tr th:only-of-type {\n",
       "        vertical-align: middle;\n",
       "    }\n",
       "\n",
       "    .dataframe tbody tr th {\n",
       "        vertical-align: top;\n",
       "    }\n",
       "\n",
       "    .dataframe thead th {\n",
       "        text-align: right;\n",
       "    }\n",
       "</style>\n",
       "<table border=\"1\" class=\"dataframe\">\n",
       "  <thead>\n",
       "    <tr style=\"text-align: right;\">\n",
       "      <th></th>\n",
       "      <th>AES</th>\n",
       "      <th>TEC</th>\n",
       "      <th>VDE</th>\n",
       "      <th>TES</th>\n",
       "      <th>GES</th>\n",
       "      <th>CONSUMPTION</th>\n",
       "      <th>day</th>\n",
       "      <th>month</th>\n",
       "      <th>year</th>\n",
       "      <th>hour</th>\n",
       "    </tr>\n",
       "  </thead>\n",
       "  <tbody>\n",
       "    <tr>\n",
       "      <th>0</th>\n",
       "      <td>9235</td>\n",
       "      <td>2039</td>\n",
       "      <td>621</td>\n",
       "      <td>4942</td>\n",
       "      <td>385.0</td>\n",
       "      <td>16693</td>\n",
       "      <td>31</td>\n",
       "      <td>12</td>\n",
       "      <td>2020</td>\n",
       "      <td>24</td>\n",
       "    </tr>\n",
       "    <tr>\n",
       "      <th>1</th>\n",
       "      <td>9221</td>\n",
       "      <td>2159</td>\n",
       "      <td>707</td>\n",
       "      <td>5549</td>\n",
       "      <td>470.0</td>\n",
       "      <td>17805</td>\n",
       "      <td>31</td>\n",
       "      <td>12</td>\n",
       "      <td>2020</td>\n",
       "      <td>23</td>\n",
       "    </tr>\n",
       "    <tr>\n",
       "      <th>2</th>\n",
       "      <td>9249</td>\n",
       "      <td>2377</td>\n",
       "      <td>709</td>\n",
       "      <td>5906</td>\n",
       "      <td>1000.0</td>\n",
       "      <td>18870</td>\n",
       "      <td>31</td>\n",
       "      <td>12</td>\n",
       "      <td>2020</td>\n",
       "      <td>22</td>\n",
       "    </tr>\n",
       "    <tr>\n",
       "      <th>3</th>\n",
       "      <td>9256</td>\n",
       "      <td>2499</td>\n",
       "      <td>702</td>\n",
       "      <td>6329</td>\n",
       "      <td>909.0</td>\n",
       "      <td>19887</td>\n",
       "      <td>31</td>\n",
       "      <td>12</td>\n",
       "      <td>2020</td>\n",
       "      <td>21</td>\n",
       "    </tr>\n",
       "    <tr>\n",
       "      <th>4</th>\n",
       "      <td>9213</td>\n",
       "      <td>2521</td>\n",
       "      <td>702</td>\n",
       "      <td>6640</td>\n",
       "      <td>823.0</td>\n",
       "      <td>20387</td>\n",
       "      <td>31</td>\n",
       "      <td>12</td>\n",
       "      <td>2020</td>\n",
       "      <td>20</td>\n",
       "    </tr>\n",
       "  </tbody>\n",
       "</table>\n",
       "</div>"
      ],
      "text/plain": [
       "    AES   TEC  VDE   TES     GES  CONSUMPTION day month  year hour\n",
       "0  9235  2039  621  4942   385.0        16693  31    12  2020   24\n",
       "1  9221  2159  707  5549   470.0        17805  31    12  2020   23\n",
       "2  9249  2377  709  5906  1000.0        18870  31    12  2020   22\n",
       "3  9256  2499  702  6329   909.0        19887  31    12  2020   21\n",
       "4  9213  2521  702  6640   823.0        20387  31    12  2020   20"
      ]
     },
     "execution_count": 5,
     "metadata": {},
     "output_type": "execute_result"
    }
   ],
   "source": [
    "df = pd.read_csv('../data/2014-2020.csv', delimiter=';')\n",
    "df = df.rename(columns={'___/____': 'Date'})\n",
    "df[['day', 'month', 'year']] = df['Date'].str.split('.', 2, expand=True)\n",
    "df[['hour', 'day']] = df['day'].str.split('-', 1, expand=True)\n",
    "df.drop(['Unnamed: 12', 'Unnamed: 13', 'GAES_GEN', 'GAES_PUMP', 'UK_BLR_RUS', 'UK_EURO', 'UK_MLD', 'Date'], axis = 1, inplace = True)\n",
    "\n",
    "df.head()\n"
   ]
  },
  {
   "cell_type": "markdown",
   "metadata": {},
   "source": [
    "## Як змінювалась структура генерації електроенергії за роками?"
   ]
  },
  {
   "cell_type": "markdown",
   "metadata": {},
   "source": [
    "Для відовіді на це питання я використала Bar chart, а точніше Stacked Bar Graph.\n",
    "\n",
    "Ще одним варіантом був Multi-set Bar Chart, але на мою думку Stacked Bar ідеально підходить для порівняння загальних сум у кожній групі.\n",
    "Також можна легко оцінити загальний розподіл, і вклад кожного джерела генерації енергії у кожному з інтервалів.\n",
    "А ще графік простий в реалізації.\n",
    "\n",
    "Щодо недоліків, так як шкала по осі Y охоплює великий діапазон значень, то на цьому графіку незрозумілими є числові значення, які визначають кількість згенерованої енергії.\n",
    "Цей недолік я усунула опцією tooltip."
   ]
  },
  {
   "cell_type": "code",
   "execution_count": 6,
   "metadata": {
    "scrolled": true
   },
   "outputs": [],
   "source": [
    "years = [2014, 2015, 2016, 2017, 2018, 2019, 2020]\n",
    "sources = [\"AES\", \"TEC\", \"VDE\", \"TES\", \"GES\"]\n",
    "columns = ['Year', 'Source', 'Sum']\n",
    "\n",
    "new_df = pd.DataFrame(columns = columns)\n",
    "rows = []\n",
    "\n",
    "for year in years:\n",
    "    for source in sources:\n",
    "        total = df.loc[df['year'] == str(year), source].sum()\n",
    "        row = [year, source, total]\n",
    "        zipped = zip(columns, row)\n",
    "        row_dictionary = dict(zipped)\n",
    "        rows.append(row_dictionary)\n",
    "\n",
    "new_df = new_df.append(rows)"
   ]
  },
  {
   "cell_type": "code",
   "execution_count": 7,
   "metadata": {},
   "outputs": [
    {
     "data": {
      "text/html": [
       "\n",
       "<div id=\"altair-viz-16766be2b5054e2ca62d6f05dc68e42f\"></div>\n",
       "<script type=\"text/javascript\">\n",
       "  (function(spec, embedOpt){\n",
       "    let outputDiv = document.currentScript.previousElementSibling;\n",
       "    if (outputDiv.id !== \"altair-viz-16766be2b5054e2ca62d6f05dc68e42f\") {\n",
       "      outputDiv = document.getElementById(\"altair-viz-16766be2b5054e2ca62d6f05dc68e42f\");\n",
       "    }\n",
       "    const paths = {\n",
       "      \"vega\": \"https://cdn.jsdelivr.net/npm//vega@5?noext\",\n",
       "      \"vega-lib\": \"https://cdn.jsdelivr.net/npm//vega-lib?noext\",\n",
       "      \"vega-lite\": \"https://cdn.jsdelivr.net/npm//vega-lite@4.8.1?noext\",\n",
       "      \"vega-embed\": \"https://cdn.jsdelivr.net/npm//vega-embed@6?noext\",\n",
       "    };\n",
       "\n",
       "    function loadScript(lib) {\n",
       "      return new Promise(function(resolve, reject) {\n",
       "        var s = document.createElement('script');\n",
       "        s.src = paths[lib];\n",
       "        s.async = true;\n",
       "        s.onload = () => resolve(paths[lib]);\n",
       "        s.onerror = () => reject(`Error loading script: ${paths[lib]}`);\n",
       "        document.getElementsByTagName(\"head\")[0].appendChild(s);\n",
       "      });\n",
       "    }\n",
       "\n",
       "    function showError(err) {\n",
       "      outputDiv.innerHTML = `<div class=\"error\" style=\"color:red;\">${err}</div>`;\n",
       "      throw err;\n",
       "    }\n",
       "\n",
       "    function displayChart(vegaEmbed) {\n",
       "      vegaEmbed(outputDiv, spec, embedOpt)\n",
       "        .catch(err => showError(`Javascript Error: ${err.message}<br>This usually means there's a typo in your chart specification. See the javascript console for the full traceback.`));\n",
       "    }\n",
       "\n",
       "    if(typeof define === \"function\" && define.amd) {\n",
       "      requirejs.config({paths});\n",
       "      require([\"vega-embed\"], displayChart, err => showError(`Error loading script: ${err.message}`));\n",
       "    } else if (typeof vegaEmbed === \"function\") {\n",
       "      displayChart(vegaEmbed);\n",
       "    } else {\n",
       "      loadScript(\"vega\")\n",
       "        .then(() => loadScript(\"vega-lite\"))\n",
       "        .then(() => loadScript(\"vega-embed\"))\n",
       "        .catch(showError)\n",
       "        .then(() => displayChart(vegaEmbed));\n",
       "    }\n",
       "  })({\"config\": {\"view\": {\"continuousWidth\": 400, \"continuousHeight\": 300}}, \"data\": {\"name\": \"data-b2bbbb4006544e8e11d16433ba1ee1de\"}, \"mark\": \"bar\", \"encoding\": {\"color\": {\"type\": \"nominal\", \"field\": \"Source\"}, \"tooltip\": {\"type\": \"quantitative\", \"field\": \"Sum\"}, \"x\": {\"type\": \"ordinal\", \"field\": \"Year\"}, \"y\": {\"type\": \"quantitative\", \"field\": \"Sum\"}}, \"height\": 500, \"width\": 650, \"$schema\": \"https://vega.github.io/schema/vega-lite/v4.8.1.json\", \"datasets\": {\"data-b2bbbb4006544e8e11d16433ba1ee1de\": [{\"Year\": 2014, \"Source\": \"AES\", \"Sum\": 88204418.0}, {\"Year\": 2014, \"Source\": \"TEC\", \"Sum\": 14684731.0}, {\"Year\": 2014, \"Source\": \"VDE\", \"Sum\": 1606386.0}, {\"Year\": 2014, \"Source\": \"TES\", \"Sum\": 68605877.0}, {\"Year\": 2014, \"Source\": \"GES\", \"Sum\": 7991074.0}, {\"Year\": 2015, \"Source\": \"AES\", \"Sum\": 87413763.0}, {\"Year\": 2015, \"Source\": \"TEC\", \"Sum\": 12041074.0}, {\"Year\": 2015, \"Source\": \"VDE\", \"Sum\": 1234936.0}, {\"Year\": 2015, \"Source\": \"TES\", \"Sum\": 50259819.0}, {\"Year\": 2015, \"Source\": \"GES\", \"Sum\": 4964478.0}, {\"Year\": 2016, \"Source\": \"AES\", \"Sum\": 80762094.0}, {\"Year\": 2016, \"Source\": \"TEC\", \"Sum\": 12841033.0}, {\"Year\": 2016, \"Source\": \"VDE\", \"Sum\": 1093190.0}, {\"Year\": 2016, \"Source\": \"TES\", \"Sum\": 49879543.0}, {\"Year\": 2016, \"Source\": \"GES\", \"Sum\": 7113989.0}, {\"Year\": 2017, \"Source\": \"AES\", \"Sum\": 85314258.0}, {\"Year\": 2017, \"Source\": \"TEC\", \"Sum\": 12208062.0}, {\"Year\": 2017, \"Source\": \"VDE\", \"Sum\": 1177032.0}, {\"Year\": 2017, \"Source\": \"TES\", \"Sum\": 44945303.0}, {\"Year\": 2017, \"Source\": \"GES\", \"Sum\": 8531952.0}, {\"Year\": 2018, \"Source\": \"AES\", \"Sum\": 84351328.0}, {\"Year\": 2018, \"Source\": \"TEC\", \"Sum\": 12261018.0}, {\"Year\": 2018, \"Source\": \"VDE\", \"Sum\": 1863726.0}, {\"Year\": 2018, \"Source\": \"TES\", \"Sum\": 47747092.0}, {\"Year\": 2018, \"Source\": \"GES\", \"Sum\": 10072767.0}, {\"Year\": 2019, \"Source\": \"AES\", \"Sum\": 83098265.0}, {\"Year\": 2019, \"Source\": \"TEC\", \"Sum\": 12251850.0}, {\"Year\": 2019, \"Source\": \"VDE\", \"Sum\": 4441801.0}, {\"Year\": 2019, \"Source\": \"TES\", \"Sum\": 44877587.0}, {\"Year\": 2019, \"Source\": \"GES\", \"Sum\": 6422154.0}, {\"Year\": 2020, \"Source\": \"AES\", \"Sum\": 76210883.0}, {\"Year\": 2020, \"Source\": \"TEC\", \"Sum\": 14536545.0}, {\"Year\": 2020, \"Source\": \"VDE\", \"Sum\": 8124734.0}, {\"Year\": 2020, \"Source\": \"TES\", \"Sum\": 39504024.0}, {\"Year\": 2020, \"Source\": \"GES\", \"Sum\": 5998680.0}]}}, {\"mode\": \"vega-lite\"});\n",
       "</script>"
      ],
      "text/plain": [
       "alt.Chart(...)"
      ]
     },
     "execution_count": 7,
     "metadata": {},
     "output_type": "execute_result"
    }
   ],
   "source": [
    "alt.Chart(new_df).mark_bar().encode(\n",
    "    x = alt.X('Year:O'),\n",
    "    y = alt.Y('Sum:Q'),\n",
    "    tooltip = alt.Tooltip('Sum'),\n",
    "    color = alt.Color('Source:N'),\n",
    ").properties(width = 650, height = 500)"
   ]
  },
  {
   "cell_type": "markdown",
   "metadata": {},
   "source": [
    "# Як залежить споживання електроенергії від дня року та години доби?"
   ]
  },
  {
   "cell_type": "markdown",
   "metadata": {},
   "source": [
    "Для відображення залежності споживання електроенергії від години доби використовую Bar Chart.\n",
    "А для відображення залежності споживання електроенергії від дня року Heatmap. \n",
    "\n",
    "Другий графік добре відображає зміни у даних з часом, якщо для одного з рядків або стовпців встановлено часові інтервали, у даному випадку дні роки.\n",
    "\n",
    "Альтернативно, можна зобразити залежність споживання електроенергії від дня року та години доби у єдиноиу графіку виду Heatmap.\n",
    "Але тоді по осі Y було б 366 позицій і, на мою думку, це незручно для оцінки числових значень, що і є недоліком великих графіків такого типу.\n"
   ]
  },
  {
   "cell_type": "code",
   "execution_count": 8,
   "metadata": {
    "scrolled": false
   },
   "outputs": [
    {
     "data": {
      "text/html": [
       "\n",
       "<div id=\"altair-viz-5263b20c0cae4ab0b10aa9282e072085\"></div>\n",
       "<script type=\"text/javascript\">\n",
       "  (function(spec, embedOpt){\n",
       "    let outputDiv = document.currentScript.previousElementSibling;\n",
       "    if (outputDiv.id !== \"altair-viz-5263b20c0cae4ab0b10aa9282e072085\") {\n",
       "      outputDiv = document.getElementById(\"altair-viz-5263b20c0cae4ab0b10aa9282e072085\");\n",
       "    }\n",
       "    const paths = {\n",
       "      \"vega\": \"https://cdn.jsdelivr.net/npm//vega@5?noext\",\n",
       "      \"vega-lib\": \"https://cdn.jsdelivr.net/npm//vega-lib?noext\",\n",
       "      \"vega-lite\": \"https://cdn.jsdelivr.net/npm//vega-lite@4.8.1?noext\",\n",
       "      \"vega-embed\": \"https://cdn.jsdelivr.net/npm//vega-embed@6?noext\",\n",
       "    };\n",
       "\n",
       "    function loadScript(lib) {\n",
       "      return new Promise(function(resolve, reject) {\n",
       "        var s = document.createElement('script');\n",
       "        s.src = paths[lib];\n",
       "        s.async = true;\n",
       "        s.onload = () => resolve(paths[lib]);\n",
       "        s.onerror = () => reject(`Error loading script: ${paths[lib]}`);\n",
       "        document.getElementsByTagName(\"head\")[0].appendChild(s);\n",
       "      });\n",
       "    }\n",
       "\n",
       "    function showError(err) {\n",
       "      outputDiv.innerHTML = `<div class=\"error\" style=\"color:red;\">${err}</div>`;\n",
       "      throw err;\n",
       "    }\n",
       "\n",
       "    function displayChart(vegaEmbed) {\n",
       "      vegaEmbed(outputDiv, spec, embedOpt)\n",
       "        .catch(err => showError(`Javascript Error: ${err.message}<br>This usually means there's a typo in your chart specification. See the javascript console for the full traceback.`));\n",
       "    }\n",
       "\n",
       "    if(typeof define === \"function\" && define.amd) {\n",
       "      requirejs.config({paths});\n",
       "      require([\"vega-embed\"], displayChart, err => showError(`Error loading script: ${err.message}`));\n",
       "    } else if (typeof vegaEmbed === \"function\") {\n",
       "      displayChart(vegaEmbed);\n",
       "    } else {\n",
       "      loadScript(\"vega\")\n",
       "        .then(() => loadScript(\"vega-lite\"))\n",
       "        .then(() => loadScript(\"vega-embed\"))\n",
       "        .catch(showError)\n",
       "        .then(() => displayChart(vegaEmbed));\n",
       "    }\n",
       "  })({\"config\": {\"view\": {\"continuousWidth\": 400, \"continuousHeight\": 300}}, \"data\": {\"name\": \"data-2efc7d424b1bc17854a9055d48fef89b\"}, \"mark\": \"bar\", \"encoding\": {\"tooltip\": {\"type\": \"nominal\", \"field\": \"Consumption\"}, \"x\": {\"type\": \"ordinal\", \"field\": \"Hour\", \"sort\": {\"field\": \"Hour\", \"op\": \"count\", \"order\": \"ascending\"}}, \"y\": {\"type\": \"quantitative\", \"field\": \"Consumption\"}}, \"height\": 500, \"width\": 650, \"$schema\": \"https://vega.github.io/schema/vega-lite/v4.8.1.json\", \"datasets\": {\"data-2efc7d424b1bc17854a9055d48fef89b\": [{\"Hour\": \"1\", \"Consumption\": \"15192.907704341025\"}, {\"Hour\": \"2\", \"Consumption\": \"14684.329683222526\"}, {\"Hour\": \"3\", \"Consumption\": \"14465.852170512318\"}, {\"Hour\": \"4\", \"Consumption\": \"14409.116542823622\"}, {\"Hour\": \"5\", \"Consumption\": \"14557.981228001565\"}, {\"Hour\": \"6\", \"Consumption\": \"15116.771607352366\"}, {\"Hour\": \"7\", \"Consumption\": \"16124.596010950332\"}, {\"Hour\": \"8\", \"Consumption\": \"16803.72780602268\"}, {\"Hour\": \"9\", \"Consumption\": \"17704.371138052404\"}, {\"Hour\": \"10\", \"Consumption\": \"18075.06257332812\"}, {\"Hour\": \"11\", \"Consumption\": \"18206.456003128667\"}, {\"Hour\": \"12\", \"Consumption\": \"18124.038326163474\"}, {\"Hour\": \"13\", \"Consumption\": \"18083.541650371528\"}, {\"Hour\": \"14\", \"Consumption\": \"18118.730152522487\"}, {\"Hour\": \"15\", \"Consumption\": \"18062.907313257725\"}, {\"Hour\": \"16\", \"Consumption\": \"18149.113805240515\"}, {\"Hour\": \"17\", \"Consumption\": \"18342.023464998045\"}, {\"Hour\": \"18\", \"Consumption\": \"18512.81736409855\"}, {\"Hour\": \"19\", \"Consumption\": \"18569.765741102856\"}, {\"Hour\": \"20\", \"Consumption\": \"18546.18967540086\"}, {\"Hour\": \"21\", \"Consumption\": \"18666.482987876418\"}, {\"Hour\": \"22\", \"Consumption\": \"18150.41572154869\"}, {\"Hour\": \"23\", \"Consumption\": \"17018.364489636293\"}, {\"Hour\": \"24\", \"Consumption\": \"16042.215095815409\"}]}}, {\"mode\": \"vega-lite\"});\n",
       "</script>"
      ],
      "text/plain": [
       "alt.Chart(...)"
      ]
     },
     "execution_count": 8,
     "metadata": {},
     "output_type": "execute_result"
    }
   ],
   "source": [
    "columns = ['Hour', 'Consumption']\n",
    "daily_cons_df = pd.DataFrame(columns = columns, index=range(24))\n",
    "   \n",
    "for hour in range(24, 0, -1):\n",
    "    daily_cons_df.loc[hour-1]['Hour'] = str(hour)\n",
    "    daily_cons_df.loc[hour-1]['Consumption'] = str(df.loc[df['hour'] == str(hour), 'CONSUMPTION'].mean())\n",
    "    \n",
    "alt.Chart(daily_cons_df).mark_bar().encode(\n",
    "    x = alt.X('Hour:O', sort=alt.EncodingSortField(field='Hour', op='count', order='ascending')),\n",
    "    y = alt.Y('Consumption:Q'),\n",
    "    tooltip = alt.Tooltip('Consumption'),\n",
    ").properties(width = 650, height = 500)"
   ]
  },
  {
   "cell_type": "code",
   "execution_count": 9,
   "metadata": {
    "scrolled": true
   },
   "outputs": [],
   "source": [
    "col = ['Day', 'Month', 'Consumption']\n",
    "monthly_df = pd.DataFrame(columns = col)\n",
    "\n",
    "monthly_rows = []\n",
    "\n",
    "for month in range(12, 0, -1):\n",
    "    for day in range(31, 0, -1):\n",
    "        mean = df.loc[(df['day'].str.contains(pat = str(day))) & (df['month'].str.contains(pat = str(month))), 'CONSUMPTION'].mean()\n",
    "        row = [day, month, mean]\n",
    "        zipped = zip(col, row)\n",
    "        row_dictionary = dict(zipped)\n",
    "        monthly_rows.append(row_dictionary)\n",
    "\n",
    "monthly_df = monthly_df.append(monthly_rows)"
   ]
  },
  {
   "cell_type": "code",
   "execution_count": 10,
   "metadata": {},
   "outputs": [
    {
     "data": {
      "text/html": [
       "\n",
       "<div id=\"altair-viz-2fb88d041ab747ea99a7377ae165fea8\"></div>\n",
       "<script type=\"text/javascript\">\n",
       "  (function(spec, embedOpt){\n",
       "    let outputDiv = document.currentScript.previousElementSibling;\n",
       "    if (outputDiv.id !== \"altair-viz-2fb88d041ab747ea99a7377ae165fea8\") {\n",
       "      outputDiv = document.getElementById(\"altair-viz-2fb88d041ab747ea99a7377ae165fea8\");\n",
       "    }\n",
       "    const paths = {\n",
       "      \"vega\": \"https://cdn.jsdelivr.net/npm//vega@5?noext\",\n",
       "      \"vega-lib\": \"https://cdn.jsdelivr.net/npm//vega-lib?noext\",\n",
       "      \"vega-lite\": \"https://cdn.jsdelivr.net/npm//vega-lite@4.8.1?noext\",\n",
       "      \"vega-embed\": \"https://cdn.jsdelivr.net/npm//vega-embed@6?noext\",\n",
       "    };\n",
       "\n",
       "    function loadScript(lib) {\n",
       "      return new Promise(function(resolve, reject) {\n",
       "        var s = document.createElement('script');\n",
       "        s.src = paths[lib];\n",
       "        s.async = true;\n",
       "        s.onload = () => resolve(paths[lib]);\n",
       "        s.onerror = () => reject(`Error loading script: ${paths[lib]}`);\n",
       "        document.getElementsByTagName(\"head\")[0].appendChild(s);\n",
       "      });\n",
       "    }\n",
       "\n",
       "    function showError(err) {\n",
       "      outputDiv.innerHTML = `<div class=\"error\" style=\"color:red;\">${err}</div>`;\n",
       "      throw err;\n",
       "    }\n",
       "\n",
       "    function displayChart(vegaEmbed) {\n",
       "      vegaEmbed(outputDiv, spec, embedOpt)\n",
       "        .catch(err => showError(`Javascript Error: ${err.message}<br>This usually means there's a typo in your chart specification. See the javascript console for the full traceback.`));\n",
       "    }\n",
       "\n",
       "    if(typeof define === \"function\" && define.amd) {\n",
       "      requirejs.config({paths});\n",
       "      require([\"vega-embed\"], displayChart, err => showError(`Error loading script: ${err.message}`));\n",
       "    } else if (typeof vegaEmbed === \"function\") {\n",
       "      displayChart(vegaEmbed);\n",
       "    } else {\n",
       "      loadScript(\"vega\")\n",
       "        .then(() => loadScript(\"vega-lite\"))\n",
       "        .then(() => loadScript(\"vega-embed\"))\n",
       "        .catch(showError)\n",
       "        .then(() => displayChart(vegaEmbed));\n",
       "    }\n",
       "  })({\"config\": {\"view\": {\"continuousWidth\": 400, \"continuousHeight\": 300}}, \"data\": {\"name\": \"data-01d2633d9f515f4cb61a476c0d05d072\"}, \"mark\": \"rect\", \"encoding\": {\"color\": {\"type\": \"quantitative\", \"field\": \"Consumption\", \"scale\": {\"scheme\": \"pinkyellowgreen\"}}, \"x\": {\"type\": \"nominal\", \"field\": \"Day\"}, \"y\": {\"type\": \"nominal\", \"field\": \"Month\"}}, \"height\": 500, \"width\": 950, \"$schema\": \"https://vega.github.io/schema/vega-lite/v4.8.1.json\", \"datasets\": {\"data-01d2633d9f515f4cb61a476c0d05d072\": [{\"Day\": 31, \"Month\": 12, \"Consumption\": 19097.625}, {\"Day\": 30, \"Month\": 12, \"Consumption\": 19140.160714285714}, {\"Day\": 29, \"Month\": 12, \"Consumption\": 19221.60714285714}, {\"Day\": 28, \"Month\": 12, \"Consumption\": 19326.125}, {\"Day\": 27, \"Month\": 12, \"Consumption\": 19022.559523809523}, {\"Day\": 26, \"Month\": 12, \"Consumption\": 19202.089285714286}, {\"Day\": 25, \"Month\": 12, \"Consumption\": 18835.761904761905}, {\"Day\": 24, \"Month\": 12, \"Consumption\": 19267.130952380954}, {\"Day\": 23, \"Month\": 12, \"Consumption\": 19522.458333333332}, {\"Day\": 22, \"Month\": 12, \"Consumption\": 19565.660714285714}, {\"Day\": 21, \"Month\": 12, \"Consumption\": 19838.255952380954}, {\"Day\": 20, \"Month\": 12, \"Consumption\": 19550.04761904762}, {\"Day\": 19, \"Month\": 12, \"Consumption\": 19439.470238095237}, {\"Day\": 18, \"Month\": 12, \"Consumption\": 19821.214285714286}, {\"Day\": 17, \"Month\": 12, \"Consumption\": 19723.666666666668}, {\"Day\": 16, \"Month\": 12, \"Consumption\": 19723.916666666668}, {\"Day\": 15, \"Month\": 12, \"Consumption\": 19637.089285714286}, {\"Day\": 14, \"Month\": 12, \"Consumption\": 19770.27380952381}, {\"Day\": 13, \"Month\": 12, \"Consumption\": 19479.363095238095}, {\"Day\": 12, \"Month\": 12, \"Consumption\": 19748.535714285714}, {\"Day\": 11, \"Month\": 12, \"Consumption\": 19742.22619047619}, {\"Day\": 10, \"Month\": 12, \"Consumption\": 19735.934523809523}, {\"Day\": 9, \"Month\": 12, \"Consumption\": 19477.94246031746}, {\"Day\": 8, \"Month\": 12, \"Consumption\": 19672.93849206349}, {\"Day\": 7, \"Month\": 12, \"Consumption\": 19574.884920634922}, {\"Day\": 6, \"Month\": 12, \"Consumption\": 19558.178571428572}, {\"Day\": 5, \"Month\": 12, \"Consumption\": 19469.025793650795}, {\"Day\": 4, \"Month\": 12, \"Consumption\": 19600.041666666668}, {\"Day\": 3, \"Month\": 12, \"Consumption\": 19441.089285714286}, {\"Day\": 2, \"Month\": 12, \"Consumption\": 19412.352678571428}, {\"Day\": 1, \"Month\": 12, \"Consumption\": 19649.23534798535}, {\"Day\": 31, \"Month\": 11, \"Consumption\": null}, {\"Day\": 30, \"Month\": 11, \"Consumption\": 19690.255952380954}, {\"Day\": 29, \"Month\": 11, \"Consumption\": 19511.220238095237}, {\"Day\": 28, \"Month\": 11, \"Consumption\": 19760.339285714286}, {\"Day\": 27, \"Month\": 11, \"Consumption\": 19793.72619047619}, {\"Day\": 26, \"Month\": 11, \"Consumption\": 19615.77380952381}, {\"Day\": 25, \"Month\": 11, \"Consumption\": 19739.42261904762}, {\"Day\": 24, \"Month\": 11, \"Consumption\": 19664.940476190477}, {\"Day\": 23, \"Month\": 11, \"Consumption\": 19458.619047619046}, {\"Day\": 22, \"Month\": 11, \"Consumption\": 19130.815476190477}, {\"Day\": 21, \"Month\": 11, \"Consumption\": 19095.994047619046}, {\"Day\": 20, \"Month\": 11, \"Consumption\": 19198.39285714286}, {\"Day\": 19, \"Month\": 11, \"Consumption\": 19039.79761904762}, {\"Day\": 18, \"Month\": 11, \"Consumption\": 19032.845238095237}, {\"Day\": 17, \"Month\": 11, \"Consumption\": 18960.89880952381}, {\"Day\": 16, \"Month\": 11, \"Consumption\": 18729.60119047619}, {\"Day\": 15, \"Month\": 11, \"Consumption\": 18367.60119047619}, {\"Day\": 14, \"Month\": 11, \"Consumption\": 18490.994047619046}, {\"Day\": 13, \"Month\": 11, \"Consumption\": 18433.654761904763}, {\"Day\": 12, \"Month\": 11, \"Consumption\": 18212.75}, {\"Day\": 11, \"Month\": 11, \"Consumption\": 18050.35714285714}, {\"Day\": 10, \"Month\": 11, \"Consumption\": 17913.48214285714}, {\"Day\": 9, \"Month\": 11, \"Consumption\": 18814.446428571428}, {\"Day\": 8, \"Month\": 11, \"Consumption\": 18807.609126984127}, {\"Day\": 7, \"Month\": 11, \"Consumption\": 18885.76785714286}, {\"Day\": 6, \"Month\": 11, \"Consumption\": 18759.61111111111}, {\"Day\": 5, \"Month\": 11, \"Consumption\": 18625.18253968254}, {\"Day\": 4, \"Month\": 11, \"Consumption\": 18638.15873015873}, {\"Day\": 3, \"Month\": 11, \"Consumption\": 18886.498511904763}, {\"Day\": 2, \"Month\": 11, \"Consumption\": 19265.321924603173}, {\"Day\": 1, \"Month\": 11, \"Consumption\": 18511.54861111111}, {\"Day\": 31, \"Month\": 10, \"Consumption\": 17950.464285714286}, {\"Day\": 30, \"Month\": 10, \"Consumption\": 17774.446428571428}, {\"Day\": 29, \"Month\": 10, \"Consumption\": 17743.35714285714}, {\"Day\": 28, \"Month\": 10, \"Consumption\": 17729.184523809523}, {\"Day\": 27, \"Month\": 10, \"Consumption\": 17779.184523809523}, {\"Day\": 26, \"Month\": 10, \"Consumption\": 17857.761904761905}, {\"Day\": 25, \"Month\": 10, \"Consumption\": 17604.583333333332}, {\"Day\": 24, \"Month\": 10, \"Consumption\": 17803.940476190477}, {\"Day\": 23, \"Month\": 10, \"Consumption\": 17496.630952380954}, {\"Day\": 22, \"Month\": 10, \"Consumption\": 17172.98214285714}, {\"Day\": 21, \"Month\": 10, \"Consumption\": 17166.904761904763}, {\"Day\": 20, \"Month\": 10, \"Consumption\": 16977.035714285714}, {\"Day\": 19, \"Month\": 10, \"Consumption\": 16749.60714285714}, {\"Day\": 18, \"Month\": 10, \"Consumption\": 16457.309523809523}, {\"Day\": 17, \"Month\": 10, \"Consumption\": 16648.07738095238}, {\"Day\": 16, \"Month\": 10, \"Consumption\": 16492.23214285714}, {\"Day\": 15, \"Month\": 10, \"Consumption\": 16301.410714285714}, {\"Day\": 14, \"Month\": 10, \"Consumption\": 15810.154761904761}, {\"Day\": 13, \"Month\": 10, \"Consumption\": 16587.089285714286}, {\"Day\": 12, \"Month\": 10, \"Consumption\": 16516.136904761905}, {\"Day\": 11, \"Month\": 10, \"Consumption\": 16406.113095238095}, {\"Day\": 10, \"Month\": 10, \"Consumption\": 16566.85714285714}, {\"Day\": 9, \"Month\": 10, \"Consumption\": 17019.325396825396}, {\"Day\": 8, \"Month\": 10, \"Consumption\": 16832.194444444445}, {\"Day\": 7, \"Month\": 10, \"Consumption\": 16844.90873015873}, {\"Day\": 6, \"Month\": 10, \"Consumption\": 16761.803571428572}, {\"Day\": 5, \"Month\": 10, \"Consumption\": 16577.468253968254}, {\"Day\": 4, \"Month\": 10, \"Consumption\": 16425.37103174603}, {\"Day\": 3, \"Month\": 10, \"Consumption\": 17100.69880952381}, {\"Day\": 2, \"Month\": 10, \"Consumption\": 17291.63740079365}, {\"Day\": 1, \"Month\": 10, \"Consumption\": 16545.60714285714}, {\"Day\": 31, \"Month\": 9, \"Consumption\": null}, {\"Day\": 30, \"Month\": 9, \"Consumption\": 15459.386904761905}, {\"Day\": 29, \"Month\": 9, \"Consumption\": 15522.892857142857}, {\"Day\": 28, \"Month\": 9, \"Consumption\": 15394.291666666666}, {\"Day\": 27, \"Month\": 9, \"Consumption\": 15260.077380952382}, {\"Day\": 26, \"Month\": 9, \"Consumption\": 15534.291666666666}, {\"Day\": 25, \"Month\": 9, \"Consumption\": 15412.57142857143}, {\"Day\": 24, \"Month\": 9, \"Consumption\": 15305.910714285714}, {\"Day\": 23, \"Month\": 9, \"Consumption\": 15251.892857142857}, {\"Day\": 22, \"Month\": 9, \"Consumption\": 15260.636904761905}, {\"Day\": 21, \"Month\": 9, \"Consumption\": 15048.214285714286}, {\"Day\": 20, \"Month\": 9, \"Consumption\": 15065.779761904761}, {\"Day\": 19, \"Month\": 9, \"Consumption\": 15020.017857142857}, {\"Day\": 18, \"Month\": 9, \"Consumption\": 15053.5}, {\"Day\": 17, \"Month\": 9, \"Consumption\": 14966.660714285714}, {\"Day\": 16, \"Month\": 9, \"Consumption\": 14882.172619047618}, {\"Day\": 15, \"Month\": 9, \"Consumption\": 14884.107142857143}, {\"Day\": 14, \"Month\": 9, \"Consumption\": 14919.815476190477}, {\"Day\": 13, \"Month\": 9, \"Consumption\": 14885.666666666666}, {\"Day\": 12, \"Month\": 9, \"Consumption\": 15030.845238095239}, {\"Day\": 11, \"Month\": 9, \"Consumption\": 14820.72619047619}, {\"Day\": 10, \"Month\": 9, \"Consumption\": 14920.934523809523}, {\"Day\": 9, \"Month\": 9, \"Consumption\": 15114.46626984127}, {\"Day\": 8, \"Month\": 9, \"Consumption\": 15095.073412698413}, {\"Day\": 7, \"Month\": 9, \"Consumption\": 15042.392857142857}, {\"Day\": 6, \"Month\": 9, \"Consumption\": 15080.311507936507}, {\"Day\": 5, \"Month\": 9, \"Consumption\": 15097.450396825398}, {\"Day\": 4, \"Month\": 9, \"Consumption\": 15116.861111111111}, {\"Day\": 3, \"Month\": 9, \"Consumption\": 15180.70982142857}, {\"Day\": 2, \"Month\": 9, \"Consumption\": 15262.962797619048}, {\"Day\": 1, \"Month\": 9, \"Consumption\": 14945.430555555555}, {\"Day\": 31, \"Month\": 8, \"Consumption\": 14909.357142857143}, {\"Day\": 30, \"Month\": 8, \"Consumption\": 14849.940476190477}, {\"Day\": 29, \"Month\": 8, \"Consumption\": 15061.97619047619}, {\"Day\": 28, \"Month\": 8, \"Consumption\": 14920.761904761905}, {\"Day\": 27, \"Month\": 8, \"Consumption\": 15080.184523809523}, {\"Day\": 26, \"Month\": 8, \"Consumption\": 14789.035714285714}, {\"Day\": 25, \"Month\": 8, \"Consumption\": 14645.52380952381}, {\"Day\": 24, \"Month\": 8, \"Consumption\": 14389.279761904761}, {\"Day\": 23, \"Month\": 8, \"Consumption\": 14784.095238095239}, {\"Day\": 22, \"Month\": 8, \"Consumption\": 15182.410714285714}, {\"Day\": 21, \"Month\": 8, \"Consumption\": 15326.386904761905}, {\"Day\": 20, \"Month\": 8, \"Consumption\": 15258.392857142857}, {\"Day\": 19, \"Month\": 8, \"Consumption\": 14998.738095238095}, {\"Day\": 18, \"Month\": 8, \"Consumption\": 15216.613095238095}, {\"Day\": 17, \"Month\": 8, \"Consumption\": 15262.238095238095}, {\"Day\": 16, \"Month\": 8, \"Consumption\": 15205.494047619048}, {\"Day\": 15, \"Month\": 8, \"Consumption\": 15508.029761904761}, {\"Day\": 14, \"Month\": 8, \"Consumption\": 15502.214285714286}, {\"Day\": 13, \"Month\": 8, \"Consumption\": 15524.142857142857}, {\"Day\": 12, \"Month\": 8, \"Consumption\": 15513.309523809523}, {\"Day\": 11, \"Month\": 8, \"Consumption\": 15529.738095238095}, {\"Day\": 10, \"Month\": 8, \"Consumption\": 15495.380952380952}, {\"Day\": 9, \"Month\": 8, \"Consumption\": 15135.789682539682}, {\"Day\": 8, \"Month\": 8, \"Consumption\": 15251.355158730159}, {\"Day\": 7, \"Month\": 8, \"Consumption\": 15350.547619047618}, {\"Day\": 6, \"Month\": 8, \"Consumption\": 15225.432539682539}, {\"Day\": 5, \"Month\": 8, \"Consumption\": 15263.230158730159}, {\"Day\": 4, \"Month\": 8, \"Consumption\": 15145.525793650793}, {\"Day\": 3, \"Month\": 8, \"Consumption\": 15099.458333333334}, {\"Day\": 2, \"Month\": 8, \"Consumption\": 15016.705357142857}, {\"Day\": 1, \"Month\": 8, \"Consumption\": 15344.086996336997}, {\"Day\": 31, \"Month\": 7, \"Consumption\": 15612.910714285714}, {\"Day\": 30, \"Month\": 7, \"Consumption\": 15598.547619047618}, {\"Day\": 29, \"Month\": 7, \"Consumption\": 15591.672619047618}, {\"Day\": 28, \"Month\": 7, \"Consumption\": 15554.565476190477}, {\"Day\": 27, \"Month\": 7, \"Consumption\": 15577.77380952381}, {\"Day\": 26, \"Month\": 7, \"Consumption\": 15455.85119047619}, {\"Day\": 25, \"Month\": 7, \"Consumption\": 15649.10119047619}, {\"Day\": 24, \"Month\": 7, \"Consumption\": 15562.184523809523}, {\"Day\": 23, \"Month\": 7, \"Consumption\": 15469.541666666666}, {\"Day\": 22, \"Month\": 7, \"Consumption\": 15396.958333333334}, {\"Day\": 21, \"Month\": 7, \"Consumption\": 15348.208333333334}, {\"Day\": 20, \"Month\": 7, \"Consumption\": 15342.077380952382}, {\"Day\": 19, \"Month\": 7, \"Consumption\": 15234.345238095239}, {\"Day\": 18, \"Month\": 7, \"Consumption\": 15411.815476190477}, {\"Day\": 17, \"Month\": 7, \"Consumption\": 15422.660714285714}, {\"Day\": 16, \"Month\": 7, \"Consumption\": 15270.440476190477}, {\"Day\": 15, \"Month\": 7, \"Consumption\": 15207.375}, {\"Day\": 14, \"Month\": 7, \"Consumption\": 15195.958333333334}, {\"Day\": 13, \"Month\": 7, \"Consumption\": 15207.94642857143}, {\"Day\": 12, \"Month\": 7, \"Consumption\": 15005.517857142857}, {\"Day\": 11, \"Month\": 7, \"Consumption\": 15281.029761904761}, {\"Day\": 10, \"Month\": 7, \"Consumption\": 15196.869047619048}, {\"Day\": 9, \"Month\": 7, \"Consumption\": 15321.914682539682}, {\"Day\": 8, \"Month\": 7, \"Consumption\": 15369.932539682539}, {\"Day\": 7, \"Month\": 7, \"Consumption\": 15382.888888888889}, {\"Day\": 6, \"Month\": 7, \"Consumption\": 15317.619047619048}, {\"Day\": 5, \"Month\": 7, \"Consumption\": 15290.857142857143}, {\"Day\": 4, \"Month\": 7, \"Consumption\": 15326.515873015873}, {\"Day\": 3, \"Month\": 7, \"Consumption\": 15443.371428571429}, {\"Day\": 2, \"Month\": 7, \"Consumption\": 15433.11259920635}, {\"Day\": 1, \"Month\": 7, \"Consumption\": 15275.72206959707}, {\"Day\": 31, \"Month\": 6, \"Consumption\": null}, {\"Day\": 30, \"Month\": 6, \"Consumption\": 15044.815476190477}, {\"Day\": 29, \"Month\": 6, \"Consumption\": 14894.339285714286}, {\"Day\": 28, \"Month\": 6, \"Consumption\": 14797.077380952382}, {\"Day\": 27, \"Month\": 6, \"Consumption\": 15331.327380952382}, {\"Day\": 26, \"Month\": 6, \"Consumption\": 15424.494047619048}, {\"Day\": 25, \"Month\": 6, \"Consumption\": 15320.083333333334}, {\"Day\": 24, \"Month\": 6, \"Consumption\": 15303.494047619048}, {\"Day\": 23, \"Month\": 6, \"Consumption\": 15437.595238095239}, {\"Day\": 22, \"Month\": 6, \"Consumption\": 15553.339285714286}, {\"Day\": 21, \"Month\": 6, \"Consumption\": 15429.19642857143}, {\"Day\": 20, \"Month\": 6, \"Consumption\": 15452.797619047618}, {\"Day\": 19, \"Month\": 6, \"Consumption\": 15417.892857142857}, {\"Day\": 18, \"Month\": 6, \"Consumption\": 15395.232142857143}, {\"Day\": 17, \"Month\": 6, \"Consumption\": 15321.25}, {\"Day\": 16, \"Month\": 6, \"Consumption\": 15281.80357142857}, {\"Day\": 15, \"Month\": 6, \"Consumption\": 15381.14880952381}, {\"Day\": 14, \"Month\": 6, \"Consumption\": 15244.005952380952}, {\"Day\": 13, \"Month\": 6, \"Consumption\": 15397.05357142857}, {\"Day\": 12, \"Month\": 6, \"Consumption\": 15347.041666666666}, {\"Day\": 11, \"Month\": 6, \"Consumption\": 15212.047619047618}, {\"Day\": 10, \"Month\": 6, \"Consumption\": 15223.130952380952}, {\"Day\": 9, \"Month\": 6, \"Consumption\": 15096.623015873016}, {\"Day\": 8, \"Month\": 6, \"Consumption\": 15026.109126984127}, {\"Day\": 7, \"Month\": 6, \"Consumption\": 15160.083333333334}, {\"Day\": 6, \"Month\": 6, \"Consumption\": 15250.767857142857}, {\"Day\": 5, \"Month\": 6, \"Consumption\": 15246.353174603175}, {\"Day\": 4, \"Month\": 6, \"Consumption\": 15169.742063492064}, {\"Day\": 3, \"Month\": 6, \"Consumption\": 15227.17857142857}, {\"Day\": 2, \"Month\": 6, \"Consumption\": 15267.649801587302}, {\"Day\": 1, \"Month\": 6, \"Consumption\": 15285.104166666666}, {\"Day\": 31, \"Month\": 5, \"Consumption\": 14816.160714285714}, {\"Day\": 30, \"Month\": 5, \"Consumption\": 15207.035714285714}, {\"Day\": 29, \"Month\": 5, \"Consumption\": 15123.69642857143}, {\"Day\": 28, \"Month\": 5, \"Consumption\": 14976.05357142857}, {\"Day\": 27, \"Month\": 5, \"Consumption\": 15042.577380952382}, {\"Day\": 26, \"Month\": 5, \"Consumption\": 15178.440476190477}, {\"Day\": 25, \"Month\": 5, \"Consumption\": 15142.720238095239}, {\"Day\": 24, \"Month\": 5, \"Consumption\": 15023.44642857143}, {\"Day\": 23, \"Month\": 5, \"Consumption\": 15178.958333333334}, {\"Day\": 22, \"Month\": 5, \"Consumption\": 15110.607142857143}, {\"Day\": 21, \"Month\": 5, \"Consumption\": 15024.416666666666}, {\"Day\": 20, \"Month\": 5, \"Consumption\": 15168.488095238095}, {\"Day\": 19, \"Month\": 5, \"Consumption\": 15115.755952380952}, {\"Day\": 18, \"Month\": 5, \"Consumption\": 15049.779761904761}, {\"Day\": 17, \"Month\": 5, \"Consumption\": 15047.119047619048}, {\"Day\": 16, \"Month\": 5, \"Consumption\": 15209.30357142857}, {\"Day\": 15, \"Month\": 5, \"Consumption\": 15267.845238095239}, {\"Day\": 14, \"Month\": 5, \"Consumption\": 15267.779761904761}, {\"Day\": 13, \"Month\": 5, \"Consumption\": 15129.35119047619}, {\"Day\": 12, \"Month\": 5, \"Consumption\": 15075.55357142857}, {\"Day\": 11, \"Month\": 5, \"Consumption\": 14801.232142857143}, {\"Day\": 10, \"Month\": 5, \"Consumption\": 14716.345238095239}, {\"Day\": 9, \"Month\": 5, \"Consumption\": 14895.21626984127}, {\"Day\": 8, \"Month\": 5, \"Consumption\": 15028.704365079366}, {\"Day\": 7, \"Month\": 5, \"Consumption\": 15093.527777777777}, {\"Day\": 6, \"Month\": 5, \"Consumption\": 15133.317460317461}, {\"Day\": 5, \"Month\": 5, \"Consumption\": 15144.287698412698}, {\"Day\": 4, \"Month\": 5, \"Consumption\": 15072.904761904761}, {\"Day\": 3, \"Month\": 5, \"Consumption\": 15004.410714285714}, {\"Day\": 2, \"Month\": 5, \"Consumption\": 15042.796626984127}, {\"Day\": 1, \"Month\": 5, \"Consumption\": 14983.160256410256}, {\"Day\": 31, \"Month\": 4, \"Consumption\": null}, {\"Day\": 30, \"Month\": 4, \"Consumption\": 14981.589285714286}, {\"Day\": 29, \"Month\": 4, \"Consumption\": 15046.095238095239}, {\"Day\": 28, \"Month\": 4, \"Consumption\": 15162.190476190477}, {\"Day\": 27, \"Month\": 4, \"Consumption\": 15503.07142857143}, {\"Day\": 26, \"Month\": 4, \"Consumption\": 15619.357142857143}, {\"Day\": 25, \"Month\": 4, \"Consumption\": 15930.214285714286}, {\"Day\": 24, \"Month\": 4, \"Consumption\": 15995.309523809523}, {\"Day\": 23, \"Month\": 4, \"Consumption\": 15943.934523809523}, {\"Day\": 22, \"Month\": 4, \"Consumption\": 16181.011904761905}, {\"Day\": 21, \"Month\": 4, \"Consumption\": 16058.410714285714}, {\"Day\": 20, \"Month\": 4, \"Consumption\": 15915.035714285714}, {\"Day\": 19, \"Month\": 4, \"Consumption\": 15937.541666666666}, {\"Day\": 18, \"Month\": 4, \"Consumption\": 16213.809523809523}, {\"Day\": 17, \"Month\": 4, \"Consumption\": 16133.922619047618}, {\"Day\": 16, \"Month\": 4, \"Consumption\": 16293.791666666666}, {\"Day\": 15, \"Month\": 4, \"Consumption\": 16638.196428571428}, {\"Day\": 14, \"Month\": 4, \"Consumption\": 16462.011904761905}, {\"Day\": 13, \"Month\": 4, \"Consumption\": 16148.345238095239}, {\"Day\": 12, \"Month\": 4, \"Consumption\": 16097.386904761905}, {\"Day\": 11, \"Month\": 4, \"Consumption\": 16517.815476190477}, {\"Day\": 10, \"Month\": 4, \"Consumption\": 16372.017857142857}, {\"Day\": 9, \"Month\": 4, \"Consumption\": 15718.621031746032}, {\"Day\": 8, \"Month\": 4, \"Consumption\": 15920.71626984127}, {\"Day\": 7, \"Month\": 4, \"Consumption\": 16041.257936507936}, {\"Day\": 6, \"Month\": 4, \"Consumption\": 16248.619047619048}, {\"Day\": 5, \"Month\": 4, \"Consumption\": 16449.771825396827}, {\"Day\": 4, \"Month\": 4, \"Consumption\": 16549.615079365078}, {\"Day\": 3, \"Month\": 4, \"Consumption\": 16093.291666666666}, {\"Day\": 2, \"Month\": 4, \"Consumption\": 15894.841765873016}, {\"Day\": 1, \"Month\": 4, \"Consumption\": 16337.141369047618}, {\"Day\": 31, \"Month\": 3, \"Consumption\": 17352.32738095238}, {\"Day\": 30, \"Month\": 3, \"Consumption\": 17452.255952380954}, {\"Day\": 29, \"Month\": 3, \"Consumption\": 17356.059523809523}, {\"Day\": 28, \"Month\": 3, \"Consumption\": 17612.291666666668}, {\"Day\": 27, \"Month\": 3, \"Consumption\": 17726.39285714286}, {\"Day\": 26, \"Month\": 3, \"Consumption\": 17722.23214285714}, {\"Day\": 25, \"Month\": 3, \"Consumption\": 17810.52380952381}, {\"Day\": 24, \"Month\": 3, \"Consumption\": 17951.678571428572}, {\"Day\": 23, \"Month\": 3, \"Consumption\": 17916.446428571428}, {\"Day\": 22, \"Month\": 3, \"Consumption\": 17797.208333333332}, {\"Day\": 21, \"Month\": 3, \"Consumption\": 18207.636904761905}, {\"Day\": 20, \"Month\": 3, \"Consumption\": 18355.541666666668}, {\"Day\": 19, \"Month\": 3, \"Consumption\": 18306.690476190477}, {\"Day\": 18, \"Month\": 3, \"Consumption\": 18314.72619047619}, {\"Day\": 17, \"Month\": 3, \"Consumption\": 18344.416666666668}, {\"Day\": 16, \"Month\": 3, \"Consumption\": 18198.85119047619}, {\"Day\": 15, \"Month\": 3, \"Consumption\": 18052.14880952381}, {\"Day\": 14, \"Month\": 3, \"Consumption\": 18242.434523809523}, {\"Day\": 13, \"Month\": 3, \"Consumption\": 18278.375}, {\"Day\": 12, \"Month\": 3, \"Consumption\": 18132.041666666668}, {\"Day\": 11, \"Month\": 3, \"Consumption\": 18050.738095238095}, {\"Day\": 10, \"Month\": 3, \"Consumption\": 17792.404761904763}, {\"Day\": 9, \"Month\": 3, \"Consumption\": 17728.309523809523}, {\"Day\": 8, \"Month\": 3, \"Consumption\": 17710.684523809523}, {\"Day\": 7, \"Month\": 3, \"Consumption\": 18144.51984126984}, {\"Day\": 6, \"Month\": 3, \"Consumption\": 18219.88888888889}, {\"Day\": 5, \"Month\": 3, \"Consumption\": 18211.382936507936}, {\"Day\": 4, \"Month\": 3, \"Consumption\": 18358.549603174604}, {\"Day\": 3, \"Month\": 3, \"Consumption\": 18006.52261904762}, {\"Day\": 2, \"Month\": 3, \"Consumption\": 17972.069444444445}, {\"Day\": 1, \"Month\": 3, \"Consumption\": 18169.48076923077}, {\"Day\": 31, \"Month\": 2, \"Consumption\": 19097.625}, {\"Day\": 30, \"Month\": 2, \"Consumption\": 19140.160714285714}, {\"Day\": 29, \"Month\": 2, \"Consumption\": 18815.98148148148}, {\"Day\": 28, \"Month\": 2, \"Consumption\": 19258.258928571428}, {\"Day\": 27, \"Month\": 2, \"Consumption\": 19298.60714285714}, {\"Day\": 26, \"Month\": 2, \"Consumption\": 19411.321428571428}, {\"Day\": 25, \"Month\": 2, \"Consumption\": 19087.300595238095}, {\"Day\": 24, \"Month\": 2, \"Consumption\": 19302.964285714286}, {\"Day\": 23, \"Month\": 2, \"Consumption\": 19342.47619047619}, {\"Day\": 22, \"Month\": 2, \"Consumption\": 19411.654761904763}, {\"Day\": 21, \"Month\": 2, \"Consumption\": 19619.119047619046}, {\"Day\": 20, \"Month\": 2, \"Consumption\": 19581.994047619046}, {\"Day\": 19, \"Month\": 2, \"Consumption\": 19470.806547619046}, {\"Day\": 18, \"Month\": 2, \"Consumption\": 19645.91369047619}, {\"Day\": 17, \"Month\": 2, \"Consumption\": 19613.39285714286}, {\"Day\": 16, \"Month\": 2, \"Consumption\": 19579.559523809523}, {\"Day\": 15, \"Month\": 2, \"Consumption\": 19525.104166666668}, {\"Day\": 14, \"Month\": 2, \"Consumption\": 19823.065476190477}, {\"Day\": 13, \"Month\": 2, \"Consumption\": 19806.383928571428}, {\"Day\": 12, \"Month\": 2, \"Consumption\": 19879.720238095237}, {\"Day\": 11, \"Month\": 2, \"Consumption\": 19960.681547619046}, {\"Day\": 10, \"Month\": 2, \"Consumption\": 19952.508928571428}, {\"Day\": 9, \"Month\": 2, \"Consumption\": 19475.570945945947}, {\"Day\": 8, \"Month\": 2, \"Consumption\": 19666.464285714286}, {\"Day\": 7, \"Month\": 2, \"Consumption\": 19693.809523809523}, {\"Day\": 6, \"Month\": 2, \"Consumption\": 19679.944444444445}, {\"Day\": 5, \"Month\": 2, \"Consumption\": 19551.579365079364}, {\"Day\": 4, \"Month\": 2, \"Consumption\": 19650.154761904763}, {\"Day\": 3, \"Month\": 2, \"Consumption\": 19569.02901785714}, {\"Day\": 2, \"Month\": 2, \"Consumption\": 19429.08946830266}, {\"Day\": 1, \"Month\": 2, \"Consumption\": 19711.667142857143}, {\"Day\": 31, \"Month\": 1, \"Consumption\": 19160.25}, {\"Day\": 30, \"Month\": 1, \"Consumption\": 19310.5625}, {\"Day\": 29, \"Month\": 1, \"Consumption\": 19282.071428571428}, {\"Day\": 28, \"Month\": 1, \"Consumption\": 19410.10714285714}, {\"Day\": 27, \"Month\": 1, \"Consumption\": 19375.67261904762}, {\"Day\": 26, \"Month\": 1, \"Consumption\": 19359.931547619046}, {\"Day\": 25, \"Month\": 1, \"Consumption\": 19244.34375}, {\"Day\": 24, \"Month\": 1, \"Consumption\": 19378.790178571428}, {\"Day\": 23, \"Month\": 1, \"Consumption\": 19332.133928571428}, {\"Day\": 22, \"Month\": 1, \"Consumption\": 19140.38244047619}, {\"Day\": 21, \"Month\": 1, \"Consumption\": 19133.29613095238}, {\"Day\": 20, \"Month\": 1, \"Consumption\": 19023.645833333332}, {\"Day\": 19, \"Month\": 1, \"Consumption\": 18743.342261904763}, {\"Day\": 18, \"Month\": 1, \"Consumption\": 18850.95535714286}, {\"Day\": 17, \"Month\": 1, \"Consumption\": 18927.721726190477}, {\"Day\": 16, \"Month\": 1, \"Consumption\": 18833.095238095237}, {\"Day\": 15, \"Month\": 1, \"Consumption\": 18593.272321428572}, {\"Day\": 14, \"Month\": 1, \"Consumption\": 18409.38244047619}, {\"Day\": 13, \"Month\": 1, \"Consumption\": 18633.998511904763}, {\"Day\": 12, \"Month\": 1, \"Consumption\": 18607.6875}, {\"Day\": 11, \"Month\": 1, \"Consumption\": 18570.238095238095}, {\"Day\": 10, \"Month\": 1, \"Consumption\": 18604.60863095238}, {\"Day\": 9, \"Month\": 1, \"Consumption\": 18872.880952380954}, {\"Day\": 8, \"Month\": 1, \"Consumption\": 18872.941964285714}, {\"Day\": 7, \"Month\": 1, \"Consumption\": 18797.228174603173}, {\"Day\": 6, \"Month\": 1, \"Consumption\": 18839.19146825397}, {\"Day\": 5, \"Month\": 1, \"Consumption\": 18732.75099206349}, {\"Day\": 4, \"Month\": 1, \"Consumption\": 18681.042162698413}, {\"Day\": 3, \"Month\": 1, \"Consumption\": 18928.3634085213}, {\"Day\": 2, \"Month\": 1, \"Consumption\": 19114.253720238095}, {\"Day\": 1, \"Month\": 1, \"Consumption\": 18662.637488328666}]}}, {\"mode\": \"vega-lite\"});\n",
       "</script>"
      ],
      "text/plain": [
       "alt.Chart(...)"
      ]
     },
     "execution_count": 10,
     "metadata": {},
     "output_type": "execute_result"
    }
   ],
   "source": [
    "alt.Chart(monthly_df).mark_rect().encode(\n",
    "    x = alt.X('Day:N'),\n",
    "    y = alt.Y('Month:N'),\n",
    "    color = alt.Color('Consumption:Q', scale = alt.Scale(scheme = 'pinkyellowgreen'))\n",
    ").properties(width = 950, height = 500)"
   ]
  },
  {
   "cell_type": "markdown",
   "metadata": {},
   "source": [
    "## Як змінюється генерація електроенергії з різних джерел впродовж доби?"
   ]
  },
  {
   "cell_type": "markdown",
   "metadata": {},
   "source": [
    "Аналогічно до першого завдання, я використала Stacked Bar Graph.\n",
    "Проте є деяка відміність в даних, у цьому завданні я обраховувала середнє значення згенерованої енергії з різних джерел впродовж доби за всі роки.\n"
   ]
  },
  {
   "cell_type": "code",
   "execution_count": 11,
   "metadata": {},
   "outputs": [
    {
     "data": {
      "text/html": [
       "<div>\n",
       "<style scoped>\n",
       "    .dataframe tbody tr th:only-of-type {\n",
       "        vertical-align: middle;\n",
       "    }\n",
       "\n",
       "    .dataframe tbody tr th {\n",
       "        vertical-align: top;\n",
       "    }\n",
       "\n",
       "    .dataframe thead th {\n",
       "        text-align: right;\n",
       "    }\n",
       "</style>\n",
       "<table border=\"1\" class=\"dataframe\">\n",
       "  <thead>\n",
       "    <tr style=\"text-align: right;\">\n",
       "      <th></th>\n",
       "      <th>Hour</th>\n",
       "      <th>Source</th>\n",
       "      <th>Average</th>\n",
       "    </tr>\n",
       "  </thead>\n",
       "  <tbody>\n",
       "    <tr>\n",
       "      <th>0</th>\n",
       "      <td>24</td>\n",
       "      <td>AES</td>\n",
       "      <td>9540.062182</td>\n",
       "    </tr>\n",
       "    <tr>\n",
       "      <th>1</th>\n",
       "      <td>24</td>\n",
       "      <td>TEC</td>\n",
       "      <td>1445.031678</td>\n",
       "    </tr>\n",
       "    <tr>\n",
       "      <th>2</th>\n",
       "      <td>24</td>\n",
       "      <td>VDE</td>\n",
       "      <td>165.014079</td>\n",
       "    </tr>\n",
       "    <tr>\n",
       "      <th>3</th>\n",
       "      <td>24</td>\n",
       "      <td>TES</td>\n",
       "      <td>5494.691826</td>\n",
       "    </tr>\n",
       "    <tr>\n",
       "      <th>4</th>\n",
       "      <td>24</td>\n",
       "      <td>GES</td>\n",
       "      <td>427.772692</td>\n",
       "    </tr>\n",
       "  </tbody>\n",
       "</table>\n",
       "</div>"
      ],
      "text/plain": [
       "  Hour Source      Average\n",
       "0   24    AES  9540.062182\n",
       "1   24    TEC  1445.031678\n",
       "2   24    VDE   165.014079\n",
       "3   24    TES  5494.691826\n",
       "4   24    GES   427.772692"
      ]
     },
     "execution_count": 11,
     "metadata": {},
     "output_type": "execute_result"
    }
   ],
   "source": [
    "columns = ['Hour', 'Source', 'Average']\n",
    "\n",
    "hourly_gen_df = pd.DataFrame(columns = columns)\n",
    "hourly_rows = []\n",
    "\n",
    "for hour in range(24, 0, -1):\n",
    "    for source in sources:\n",
    "        mean = df.loc[df['hour'] == str(hour), source].mean()\n",
    "        row = [hour, source, mean]\n",
    "        zipped = zip(columns, row)\n",
    "        row_dictionary = dict(zipped)\n",
    "        hourly_rows.append(row_dictionary)\n",
    "\n",
    "hourly_gen_df = hourly_gen_df.append(hourly_rows)\n",
    "hourly_gen_df.head()"
   ]
  },
  {
   "cell_type": "code",
   "execution_count": 12,
   "metadata": {},
   "outputs": [
    {
     "data": {
      "text/html": [
       "\n",
       "<div id=\"altair-viz-67c357f089b8488ab4a8012315dfff93\"></div>\n",
       "<script type=\"text/javascript\">\n",
       "  (function(spec, embedOpt){\n",
       "    let outputDiv = document.currentScript.previousElementSibling;\n",
       "    if (outputDiv.id !== \"altair-viz-67c357f089b8488ab4a8012315dfff93\") {\n",
       "      outputDiv = document.getElementById(\"altair-viz-67c357f089b8488ab4a8012315dfff93\");\n",
       "    }\n",
       "    const paths = {\n",
       "      \"vega\": \"https://cdn.jsdelivr.net/npm//vega@5?noext\",\n",
       "      \"vega-lib\": \"https://cdn.jsdelivr.net/npm//vega-lib?noext\",\n",
       "      \"vega-lite\": \"https://cdn.jsdelivr.net/npm//vega-lite@4.8.1?noext\",\n",
       "      \"vega-embed\": \"https://cdn.jsdelivr.net/npm//vega-embed@6?noext\",\n",
       "    };\n",
       "\n",
       "    function loadScript(lib) {\n",
       "      return new Promise(function(resolve, reject) {\n",
       "        var s = document.createElement('script');\n",
       "        s.src = paths[lib];\n",
       "        s.async = true;\n",
       "        s.onload = () => resolve(paths[lib]);\n",
       "        s.onerror = () => reject(`Error loading script: ${paths[lib]}`);\n",
       "        document.getElementsByTagName(\"head\")[0].appendChild(s);\n",
       "      });\n",
       "    }\n",
       "\n",
       "    function showError(err) {\n",
       "      outputDiv.innerHTML = `<div class=\"error\" style=\"color:red;\">${err}</div>`;\n",
       "      throw err;\n",
       "    }\n",
       "\n",
       "    function displayChart(vegaEmbed) {\n",
       "      vegaEmbed(outputDiv, spec, embedOpt)\n",
       "        .catch(err => showError(`Javascript Error: ${err.message}<br>This usually means there's a typo in your chart specification. See the javascript console for the full traceback.`));\n",
       "    }\n",
       "\n",
       "    if(typeof define === \"function\" && define.amd) {\n",
       "      requirejs.config({paths});\n",
       "      require([\"vega-embed\"], displayChart, err => showError(`Error loading script: ${err.message}`));\n",
       "    } else if (typeof vegaEmbed === \"function\") {\n",
       "      displayChart(vegaEmbed);\n",
       "    } else {\n",
       "      loadScript(\"vega\")\n",
       "        .then(() => loadScript(\"vega-lite\"))\n",
       "        .then(() => loadScript(\"vega-embed\"))\n",
       "        .catch(showError)\n",
       "        .then(() => displayChart(vegaEmbed));\n",
       "    }\n",
       "  })({\"config\": {\"view\": {\"continuousWidth\": 400, \"continuousHeight\": 300}}, \"data\": {\"name\": \"data-c8b4ebb5fd3d1d48d4b2e3a89e1062ce\"}, \"mark\": \"bar\", \"encoding\": {\"color\": {\"type\": \"nominal\", \"field\": \"Source\"}, \"tooltip\": {\"type\": \"quantitative\", \"field\": \"Average\"}, \"x\": {\"type\": \"ordinal\", \"field\": \"Hour\"}, \"y\": {\"type\": \"quantitative\", \"field\": \"Average\"}}, \"height\": 600, \"width\": 950, \"$schema\": \"https://vega.github.io/schema/vega-lite/v4.8.1.json\", \"datasets\": {\"data-c8b4ebb5fd3d1d48d4b2e3a89e1062ce\": [{\"Hour\": 24, \"Source\": \"AES\", \"Average\": 9540.062182244817}, {\"Hour\": 24, \"Source\": \"TEC\", \"Average\": 1445.0316777473602}, {\"Hour\": 24, \"Source\": \"VDE\", \"Average\": 165.01407899882676}, {\"Hour\": 24, \"Source\": \"TES\", \"Average\": 5494.691826359014}, {\"Hour\": 24, \"Source\": \"GES\", \"Average\": 427.7726917057903}, {\"Hour\": 23, \"Source\": \"AES\", \"Average\": 9542.635901447009}, {\"Hour\": 23, \"Source\": \"TEC\", \"Average\": 1500.0187719984356}, {\"Hour\": 23, \"Source\": \"VDE\", \"Average\": 164.1572154868987}, {\"Hour\": 23, \"Source\": \"TES\", \"Average\": 5807.8204927649585}, {\"Hour\": 23, \"Source\": \"GES\", \"Average\": 629.1274931560422}, {\"Hour\": 22, \"Source\": \"AES\", \"Average\": 9542.576847868597}, {\"Hour\": 22, \"Source\": \"TEC\", \"Average\": 1513.080563159953}, {\"Hour\": 22, \"Source\": \"VDE\", \"Average\": 163.61048103245992}, {\"Hour\": 22, \"Source\": \"TES\", \"Average\": 6150.422761048103}, {\"Hour\": 22, \"Source\": \"GES\", \"Average\": 1098.8713335940556}, {\"Hour\": 21, \"Source\": \"AES\", \"Average\": 9541.933515838873}, {\"Hour\": 21, \"Source\": \"TEC\", \"Average\": 1517.328901055925}, {\"Hour\": 21, \"Source\": \"VDE\", \"Average\": 163.06374657802112}, {\"Hour\": 21, \"Source\": \"TES\", \"Average\": 6237.022291748142}, {\"Hour\": 21, \"Source\": \"GES\", \"Average\": 1358.3926476339461}, {\"Hour\": 20, \"Source\": \"AES\", \"Average\": 9541.28940164255}, {\"Hour\": 20, \"Source\": \"TEC\", \"Average\": 1518.0774344935471}, {\"Hour\": 20, \"Source\": \"VDE\", \"Average\": 167.0535784122018}, {\"Hour\": 20, \"Source\": \"TES\", \"Average\": 6243.233476730544}, {\"Hour\": 20, \"Source\": \"GES\", \"Average\": 1284.0930778255768}, {\"Hour\": 19, \"Source\": \"AES\", \"Average\": 9536.92647633946}, {\"Hour\": 19, \"Source\": \"TEC\", \"Average\": 1517.6038326163473}, {\"Hour\": 19, \"Source\": \"VDE\", \"Average\": 195.5056707078608}, {\"Hour\": 19, \"Source\": \"TES\", \"Average\": 6233.493938208839}, {\"Hour\": 19, \"Source\": \"GES\", \"Average\": 1291.8071959327337}, {\"Hour\": 18, \"Source\": \"AES\", \"Average\": 9534.044192412985}, {\"Hour\": 18, \"Source\": \"TEC\", \"Average\": 1515.5314822057098}, {\"Hour\": 18, \"Source\": \"VDE\", \"Average\": 261.1224090731326}, {\"Hour\": 18, \"Source\": \"TES\", \"Average\": 6203.737583105201}, {\"Hour\": 18, \"Source\": \"GES\", \"Average\": 1241.7571372702387}, {\"Hour\": 17, \"Source\": \"AES\", \"Average\": 9533.361360969886}, {\"Hour\": 17, \"Source\": \"TEC\", \"Average\": 1511.0211184982402}, {\"Hour\": 17, \"Source\": \"VDE\", \"Average\": 357.4251075479077}, {\"Hour\": 17, \"Source\": \"TES\", \"Average\": 6143.12631990614}, {\"Hour\": 17, \"Source\": \"GES\", \"Average\": 1165.6746186937817}, {\"Hour\": 16, \"Source\": \"AES\", \"Average\": 9532.448181462652}, {\"Hour\": 16, \"Source\": \"TEC\", \"Average\": 1505.3199061400078}, {\"Hour\": 16, \"Source\": \"VDE\", \"Average\": 459.35745013687915}, {\"Hour\": 16, \"Source\": \"TES\", \"Average\": 6081.178333985139}, {\"Hour\": 16, \"Source\": \"GES\", \"Average\": 1047.9890496675791}, {\"Hour\": 15, \"Source\": \"AES\", \"Average\": 9533.448181462652}, {\"Hour\": 15, \"Source\": \"TEC\", \"Average\": 1500.651153695737}, {\"Hour\": 15, \"Source\": \"VDE\", \"Average\": 561.7692608525616}, {\"Hour\": 15, \"Source\": \"TES\", \"Average\": 6038.778255768479}, {\"Hour\": 15, \"Source\": \"GES\", \"Average\": 978.0238560813453}, {\"Hour\": 14, \"Source\": \"AES\", \"Average\": 9533.659366445052}, {\"Hour\": 14, \"Source\": \"TEC\", \"Average\": 1496.9956980836919}, {\"Hour\": 14, \"Source\": \"VDE\", \"Average\": 634.2588971450919}, {\"Hour\": 14, \"Source\": \"TES\", \"Average\": 5999.127884239343}, {\"Hour\": 14, \"Source\": \"GES\", \"Average\": 1007.424716464607}, {\"Hour\": 13, \"Source\": \"AES\", \"Average\": 9534.712162690654}, {\"Hour\": 13, \"Source\": \"TEC\", \"Average\": 1493.2624168947987}, {\"Hour\": 13, \"Source\": \"VDE\", \"Average\": 676.1666014861165}, {\"Hour\": 13, \"Source\": \"TES\", \"Average\": 5949.325381306218}, {\"Hour\": 13, \"Source\": \"GES\", \"Average\": 958.4904184591318}, {\"Hour\": 12, \"Source\": \"AES\", \"Average\": 9540.784513101291}, {\"Hour\": 12, \"Source\": \"TEC\", \"Average\": 1495.6488071959327}, {\"Hour\": 12, \"Source\": \"VDE\", \"Average\": 675.1650371529136}, {\"Hour\": 12, \"Source\": \"TES\", \"Average\": 5949.276886976926}, {\"Hour\": 12, \"Source\": \"GES\", \"Average\": 1003.1935862338678}, {\"Hour\": 11, \"Source\": \"AES\", \"Average\": 9544.527571372702}, {\"Hour\": 11, \"Source\": \"TEC\", \"Average\": 1498.5162299569809}, {\"Hour\": 11, \"Source\": \"VDE\", \"Average\": 623.170512319124}, {\"Hour\": 11, \"Source\": \"TES\", \"Average\": 5946.095424325381}, {\"Hour\": 11, \"Source\": \"GES\", \"Average\": 1071.5917090340242}, {\"Hour\": 10, \"Source\": \"AES\", \"Average\": 9548.000782166602}, {\"Hour\": 10, \"Source\": \"TEC\", \"Average\": 1500.823230348064}, {\"Hour\": 10, \"Source\": \"VDE\", \"Average\": 529.5197497066875}, {\"Hour\": 10, \"Source\": \"TES\", \"Average\": 5897.132968322253}, {\"Hour\": 10, \"Source\": \"GES\", \"Average\": 1088.394211967149}, {\"Hour\": 9, \"Source\": \"AES\", \"Average\": 9549.798983183418}, {\"Hour\": 9, \"Source\": \"TEC\", \"Average\": 1498.6261243644897}, {\"Hour\": 9, \"Source\": \"VDE\", \"Average\": 389.411028549081}, {\"Hour\": 9, \"Source\": \"TES\", \"Average\": 5740.241689479859}, {\"Hour\": 9, \"Source\": \"GES\", \"Average\": 1047.793116933907}, {\"Hour\": 8, \"Source\": \"AES\", \"Average\": 9549.525224872898}, {\"Hour\": 8, \"Source\": \"TEC\", \"Average\": 1489.098944075088}, {\"Hour\": 8, \"Source\": \"VDE\", \"Average\": 266.0488854125929}, {\"Hour\": 8, \"Source\": \"TES\", \"Average\": 5476.794290183809}, {\"Hour\": 8, \"Source\": \"GES\", \"Average\": 720.086820492765}, {\"Hour\": 7, \"Source\": \"AES\", \"Average\": 9543.824794681266}, {\"Hour\": 7, \"Source\": \"TEC\", \"Average\": 1449.1098944075088}, {\"Hour\": 7, \"Source\": \"VDE\", \"Average\": 194.38208838482598}, {\"Hour\": 7, \"Source\": \"TES\", \"Average\": 5138.824012514666}, {\"Hour\": 7, \"Source\": \"GES\", \"Average\": 587.5850606179116}, {\"Hour\": 6, \"Source\": \"AES\", \"Average\": 9537.201016816582}, {\"Hour\": 6, \"Source\": \"TEC\", \"Average\": 1426.097379741885}, {\"Hour\": 6, \"Source\": \"VDE\", \"Average\": 173.39538521705123}, {\"Hour\": 6, \"Source\": \"TES\", \"Average\": 4752.780211184982}, {\"Hour\": 6, \"Source\": \"GES\", \"Average\": 307.22487289792724}, {\"Hour\": 5, \"Source\": \"AES\", \"Average\": 9535.267109894408}, {\"Hour\": 5, \"Source\": \"TEC\", \"Average\": 1425.8635119280407}, {\"Hour\": 5, \"Source\": \"VDE\", \"Average\": 165.0598357450137}, {\"Hour\": 5, \"Source\": \"TES\", \"Average\": 4697.965975752835}, {\"Hour\": 5, \"Source\": \"GES\", \"Average\": 323.25381306218225}, {\"Hour\": 4, \"Source\": \"AES\", \"Average\": 9531.818537348456}, {\"Hour\": 4, \"Source\": \"TEC\", \"Average\": 1423.5119280406727}, {\"Hour\": 4, \"Source\": \"VDE\", \"Average\": 164.1798983183418}, {\"Hour\": 4, \"Source\": \"TES\", \"Average\": 4684.545561204536}, {\"Hour\": 4, \"Source\": \"GES\", \"Average\": 289.9737974188502}, {\"Hour\": 3, \"Source\": \"AES\", \"Average\": 9530.246773562769}, {\"Hour\": 3, \"Source\": \"TEC\", \"Average\": 1425.2233085647242}, {\"Hour\": 3, \"Source\": \"VDE\", \"Average\": 164.70434102463824}, {\"Hour\": 3, \"Source\": \"TES\", \"Average\": 4722.44231521314}, {\"Hour\": 3, \"Source\": \"GES\", \"Average\": 314.6222135314822}, {\"Hour\": 2, \"Source\": \"AES\", \"Average\": 9530.698083691826}, {\"Hour\": 2, \"Source\": \"TEC\", \"Average\": 1424.868987094251}, {\"Hour\": 2, \"Source\": \"VDE\", \"Average\": 164.7540086038326}, {\"Hour\": 2, \"Source\": \"TES\", \"Average\": 4772.738365271803}, {\"Hour\": 2, \"Source\": \"GES\", \"Average\": 325.8048494329292}, {\"Hour\": 1, \"Source\": \"AES\", \"Average\": 9533.777864685178}, {\"Hour\": 1, \"Source\": \"TEC\", \"Average\": 1428.5608134532656}, {\"Hour\": 1, \"Source\": \"VDE\", \"Average\": 164.17833398513883}, {\"Hour\": 1, \"Source\": \"TES\", \"Average\": 4883.335549472037}, {\"Hour\": 1, \"Source\": \"GES\", \"Average\": 413.65701994524835}]}}, {\"mode\": \"vega-lite\"});\n",
       "</script>"
      ],
      "text/plain": [
       "alt.Chart(...)"
      ]
     },
     "execution_count": 12,
     "metadata": {},
     "output_type": "execute_result"
    }
   ],
   "source": [
    "alt.Chart(hourly_gen_df).mark_bar().encode(\n",
    "    x = alt.X('Hour:O'),\n",
    "    y = alt.Y('Average:Q'),\n",
    "    tooltip = alt.Tooltip('Average'),\n",
    "    color = alt.Color('Source:N'),\n",
    ").properties(width = 950, height = 600)"
   ]
  },
  {
   "cell_type": "markdown",
   "metadata": {},
   "source": [
    "## Як змінюється споживання електроенергії впродовж доби у розрізі місяців року та пір року?"
   ]
  },
  {
   "cell_type": "markdown",
   "metadata": {},
   "source": [
    "Для відображення зміни споживання електроенергії впродовж доби у розрізі місяців року я застосувала Bar Chart, використовуючи фацетинг. Такий спосіб дуже зручний для відображення декількох окремих графіків для кожної категорії, у даному випадку - для кожного місяця.\n",
    "Як я вже описувала раніше Bar Chart досить простий та зрозумілий графік для розуміння.\n",
    "\n",
    "Ще одним варіантом був Line Graph. Але на цьому графіку потрібно було зобразити аж 12 ліній, які в багатьох місцях накладались, тому він не був зручним для оцінки зміни даних впродовж доби.\n",
    "\n",
    "Але Line Graph я використала для відображення зміни споживання електроенергії впродовж доби у розрізі пір року. Також я додала поінти для більш чіткого визначення числових значень. Таким чином цей графік не є громіздкий, можна легко оцінити зміну даних .\n"
   ]
  },
  {
   "cell_type": "code",
   "execution_count": 13,
   "metadata": {
    "scrolled": true
   },
   "outputs": [],
   "source": [
    "months = [\"January\", \"February\", \"March\", \"April\", \"May\", \"June\", \"July\", \"August\", \"September\", \"October\", \"November\", \"December\"]\n",
    "columns = ['Hour', 'Consumption', 'Month']\n",
    "\n",
    "hourly_gen_df = pd.DataFrame(columns = columns)\n",
    "\n",
    "\n",
    "for month in range(12, 0, -1):\n",
    "    hourly_rows = []\n",
    "    for hour in range(24, 0, -1):\n",
    "        mean = df.loc[(df['hour'] == str(hour)) & (df['month'].str.contains(pat = str(month))), 'CONSUMPTION'].mean()\n",
    "        row = [hour, mean, months[month-1]]\n",
    "        zipped = zip(columns, row)\n",
    "        row_dictionary = dict(zipped)\n",
    "        hourly_rows.append(row_dictionary)\n",
    "    \n",
    "    \n",
    "    hourly_gen_df = hourly_gen_df.append(hourly_rows)"
   ]
  },
  {
   "cell_type": "code",
   "execution_count": 205,
   "metadata": {},
   "outputs": [
    {
     "data": {
      "text/html": [
       "\n",
       "<div id=\"altair-viz-000277fea7ef4965be56b35722bc5ca6\"></div>\n",
       "<script type=\"text/javascript\">\n",
       "  (function(spec, embedOpt){\n",
       "    let outputDiv = document.currentScript.previousElementSibling;\n",
       "    if (outputDiv.id !== \"altair-viz-000277fea7ef4965be56b35722bc5ca6\") {\n",
       "      outputDiv = document.getElementById(\"altair-viz-000277fea7ef4965be56b35722bc5ca6\");\n",
       "    }\n",
       "    const paths = {\n",
       "      \"vega\": \"https://cdn.jsdelivr.net/npm//vega@5?noext\",\n",
       "      \"vega-lib\": \"https://cdn.jsdelivr.net/npm//vega-lib?noext\",\n",
       "      \"vega-lite\": \"https://cdn.jsdelivr.net/npm//vega-lite@4.8.1?noext\",\n",
       "      \"vega-embed\": \"https://cdn.jsdelivr.net/npm//vega-embed@6?noext\",\n",
       "    };\n",
       "\n",
       "    function loadScript(lib) {\n",
       "      return new Promise(function(resolve, reject) {\n",
       "        var s = document.createElement('script');\n",
       "        s.src = paths[lib];\n",
       "        s.async = true;\n",
       "        s.onload = () => resolve(paths[lib]);\n",
       "        s.onerror = () => reject(`Error loading script: ${paths[lib]}`);\n",
       "        document.getElementsByTagName(\"head\")[0].appendChild(s);\n",
       "      });\n",
       "    }\n",
       "\n",
       "    function showError(err) {\n",
       "      outputDiv.innerHTML = `<div class=\"error\" style=\"color:red;\">${err}</div>`;\n",
       "      throw err;\n",
       "    }\n",
       "\n",
       "    function displayChart(vegaEmbed) {\n",
       "      vegaEmbed(outputDiv, spec, embedOpt)\n",
       "        .catch(err => showError(`Javascript Error: ${err.message}<br>This usually means there's a typo in your chart specification. See the javascript console for the full traceback.`));\n",
       "    }\n",
       "\n",
       "    if(typeof define === \"function\" && define.amd) {\n",
       "      requirejs.config({paths});\n",
       "      require([\"vega-embed\"], displayChart, err => showError(`Error loading script: ${err.message}`));\n",
       "    } else if (typeof vegaEmbed === \"function\") {\n",
       "      displayChart(vegaEmbed);\n",
       "    } else {\n",
       "      loadScript(\"vega\")\n",
       "        .then(() => loadScript(\"vega-lite\"))\n",
       "        .then(() => loadScript(\"vega-embed\"))\n",
       "        .catch(showError)\n",
       "        .then(() => displayChart(vegaEmbed));\n",
       "    }\n",
       "  })({\"config\": {\"view\": {\"continuousWidth\": 400, \"continuousHeight\": 300}}, \"data\": {\"name\": \"data-8e9bdb36dd098c1a3a67c057348a682f\"}, \"facet\": {\"type\": \"nominal\", \"field\": \"Month\"}, \"spec\": {\"mark\": \"bar\", \"encoding\": {\"tooltip\": {\"type\": \"quantitative\", \"field\": \"Consumption\"}, \"x\": {\"type\": \"ordinal\", \"field\": \"Hour\"}, \"y\": {\"type\": \"quantitative\", \"field\": \"Consumption\"}}, \"height\": 250.0, \"width\": 475.0}, \"columns\": 2, \"$schema\": \"https://vega.github.io/schema/vega-lite/v4.8.1.json\", \"datasets\": {\"data-8e9bdb36dd098c1a3a67c057348a682f\": [{\"Hour\": 24, \"Consumption\": 18189.585253456222, \"Month\": \"December\"}, {\"Hour\": 23, \"Consumption\": 19053.244239631338, \"Month\": \"December\"}, {\"Hour\": 22, \"Consumption\": 20048.589861751152, \"Month\": \"December\"}, {\"Hour\": 21, \"Consumption\": 20652.36866359447, \"Month\": \"December\"}, {\"Hour\": 20, \"Consumption\": 21012.235023041474, \"Month\": \"December\"}, {\"Hour\": 19, \"Consumption\": 21418.599078341013, \"Month\": \"December\"}, {\"Hour\": 18, \"Consumption\": 21804.829493087556, \"Month\": \"December\"}, {\"Hour\": 17, \"Consumption\": 21902.350230414748, \"Month\": \"December\"}, {\"Hour\": 16, \"Consumption\": 21348.341013824884, \"Month\": \"December\"}, {\"Hour\": 15, \"Consumption\": 20855.20276497696, \"Month\": \"December\"}, {\"Hour\": 14, \"Consumption\": 20806.658986175116, \"Month\": \"December\"}, {\"Hour\": 13, \"Consumption\": 20749.90322580645, \"Month\": \"December\"}, {\"Hour\": 12, \"Consumption\": 20820.912442396315, \"Month\": \"December\"}, {\"Hour\": 11, \"Consumption\": 21016.75115207373, \"Month\": \"December\"}, {\"Hour\": 10, \"Consumption\": 20846.525345622118, \"Month\": \"December\"}, {\"Hour\": 9, \"Consumption\": 20420.09216589862, \"Month\": \"December\"}, {\"Hour\": 8, \"Consumption\": 19370.285714285714, \"Month\": \"December\"}, {\"Hour\": 7, \"Consumption\": 18577.935483870966, \"Month\": \"December\"}, {\"Hour\": 6, \"Consumption\": 17372.963133640555, \"Month\": \"December\"}, {\"Hour\": 5, \"Consumption\": 16700.69585253456, \"Month\": \"December\"}, {\"Hour\": 4, \"Consumption\": 16444.85714285714, \"Month\": \"December\"}, {\"Hour\": 3, \"Consumption\": 16492.824884792626, \"Month\": \"December\"}, {\"Hour\": 2, \"Consumption\": 16733.861751152075, \"Month\": \"December\"}, {\"Hour\": 1, \"Consumption\": 17277.00460829493, \"Month\": \"December\"}, {\"Hour\": 24, \"Consumption\": 17193.14761904762, \"Month\": \"November\"}, {\"Hour\": 23, \"Consumption\": 18082.91904761905, \"Month\": \"November\"}, {\"Hour\": 22, \"Consumption\": 19203.290476190476, \"Month\": \"November\"}, {\"Hour\": 21, \"Consumption\": 19875.542857142857, \"Month\": \"November\"}, {\"Hour\": 20, \"Consumption\": 20295.638095238097, \"Month\": \"November\"}, {\"Hour\": 19, \"Consumption\": 20777.17142857143, \"Month\": \"November\"}, {\"Hour\": 18, \"Consumption\": 21193.190476190477, \"Month\": \"November\"}, {\"Hour\": 17, \"Consumption\": 21039.17142857143, \"Month\": \"November\"}, {\"Hour\": 16, \"Consumption\": 20286.928571428572, \"Month\": \"November\"}, {\"Hour\": 15, \"Consumption\": 19882.519047619047, \"Month\": \"November\"}, {\"Hour\": 14, \"Consumption\": 19826.02380952381, \"Month\": \"November\"}, {\"Hour\": 13, \"Consumption\": 19736.22857142857, \"Month\": \"November\"}, {\"Hour\": 12, \"Consumption\": 19798.24761904762, \"Month\": \"November\"}, {\"Hour\": 11, \"Consumption\": 20002.209523809524, \"Month\": \"November\"}, {\"Hour\": 10, \"Consumption\": 19825.628571428573, \"Month\": \"November\"}, {\"Hour\": 9, \"Consumption\": 19467.190476190477, \"Month\": \"November\"}, {\"Hour\": 8, \"Consumption\": 18533.52380952381, \"Month\": \"November\"}, {\"Hour\": 7, \"Consumption\": 17752.114285714284, \"Month\": \"November\"}, {\"Hour\": 6, \"Consumption\": 16557.342857142856, \"Month\": \"November\"}, {\"Hour\": 5, \"Consumption\": 15828.204761904763, \"Month\": \"November\"}, {\"Hour\": 4, \"Consumption\": 15581.566666666668, \"Month\": \"November\"}, {\"Hour\": 3, \"Consumption\": 15601.795238095237, \"Month\": \"November\"}, {\"Hour\": 2, \"Consumption\": 15803.795238095237, \"Month\": \"November\"}, {\"Hour\": 1, \"Consumption\": 16298.680952380952, \"Month\": \"November\"}, {\"Hour\": 24, \"Consumption\": 15610.6267281106, \"Month\": \"October\"}, {\"Hour\": 23, \"Consumption\": 16605.069124423964, \"Month\": \"October\"}, {\"Hour\": 22, \"Consumption\": 17608.0, \"Month\": \"October\"}, {\"Hour\": 21, \"Consumption\": 18619.728110599077, \"Month\": \"October\"}, {\"Hour\": 20, \"Consumption\": 19072.622119815667, \"Month\": \"October\"}, {\"Hour\": 19, \"Consumption\": 19072.672811059907, \"Month\": \"October\"}, {\"Hour\": 18, \"Consumption\": 18195.63133640553, \"Month\": \"October\"}, {\"Hour\": 17, \"Consumption\": 17753.0, \"Month\": \"October\"}, {\"Hour\": 16, \"Consumption\": 17492.69124423963, \"Month\": \"October\"}, {\"Hour\": 15, \"Consumption\": 17435.599078341013, \"Month\": \"October\"}, {\"Hour\": 14, \"Consumption\": 17494.672811059907, \"Month\": \"October\"}, {\"Hour\": 13, \"Consumption\": 17477.285714285714, \"Month\": \"October\"}, {\"Hour\": 12, \"Consumption\": 17588.322580645163, \"Month\": \"October\"}, {\"Hour\": 11, \"Consumption\": 17869.502304147467, \"Month\": \"October\"}, {\"Hour\": 10, \"Consumption\": 17796.410138248848, \"Month\": \"October\"}, {\"Hour\": 9, \"Consumption\": 17525.69124423963, \"Month\": \"October\"}, {\"Hour\": 8, \"Consumption\": 16702.382488479263, \"Month\": \"October\"}, {\"Hour\": 7, \"Consumption\": 15999.884792626728, \"Month\": \"October\"}, {\"Hour\": 6, \"Consumption\": 14828.294930875576, \"Month\": \"October\"}, {\"Hour\": 5, \"Consumption\": 14139.990783410138, \"Month\": \"October\"}, {\"Hour\": 4, \"Consumption\": 13924.258064516129, \"Month\": \"October\"}, {\"Hour\": 3, \"Consumption\": 13973.110599078342, \"Month\": \"October\"}, {\"Hour\": 2, \"Consumption\": 14185.792626728111, \"Month\": \"October\"}, {\"Hour\": 1, \"Consumption\": 14668.930875576038, \"Month\": \"October\"}, {\"Hour\": 24, \"Consumption\": 14024.5, \"Month\": \"September\"}, {\"Hour\": 23, \"Consumption\": 14992.033333333333, \"Month\": \"September\"}, {\"Hour\": 22, \"Consumption\": 16133.933333333332, \"Month\": \"September\"}, {\"Hour\": 21, \"Consumption\": 17257.861904761903, \"Month\": \"September\"}, {\"Hour\": 20, \"Consumption\": 17299.92380952381, \"Month\": \"September\"}, {\"Hour\": 19, \"Consumption\": 16318.342857142858, \"Month\": \"September\"}, {\"Hour\": 18, \"Consumption\": 15967.1, \"Month\": \"September\"}, {\"Hour\": 17, \"Consumption\": 16004.228571428572, \"Month\": \"September\"}, {\"Hour\": 16, \"Consumption\": 15994.171428571428, \"Month\": \"September\"}, {\"Hour\": 15, \"Consumption\": 15977.880952380952, \"Month\": \"September\"}, {\"Hour\": 14, \"Consumption\": 16003.709523809524, \"Month\": \"September\"}, {\"Hour\": 13, \"Consumption\": 15902.67619047619, \"Month\": \"September\"}, {\"Hour\": 12, \"Consumption\": 15888.37619047619, \"Month\": \"September\"}, {\"Hour\": 11, \"Consumption\": 16055.261904761905, \"Month\": \"September\"}, {\"Hour\": 10, \"Consumption\": 15915.214285714286, \"Month\": \"September\"}, {\"Hour\": 9, \"Consumption\": 15654.790476190476, \"Month\": \"September\"}, {\"Hour\": 8, \"Consumption\": 14974.961904761905, \"Month\": \"September\"}, {\"Hour\": 7, \"Consumption\": 14366.4, \"Month\": \"September\"}, {\"Hour\": 6, \"Consumption\": 13285.97619047619, \"Month\": \"September\"}, {\"Hour\": 5, \"Consumption\": 12748.15238095238, \"Month\": \"September\"}, {\"Hour\": 4, \"Consumption\": 12580.37619047619, \"Month\": \"September\"}, {\"Hour\": 3, \"Consumption\": 12618.295238095237, \"Month\": \"September\"}, {\"Hour\": 2, \"Consumption\": 12800.414285714285, \"Month\": \"September\"}, {\"Hour\": 1, \"Consumption\": 13227.657142857142, \"Month\": \"September\"}, {\"Hour\": 24, \"Consumption\": 14306.42396313364, \"Month\": \"August\"}, {\"Hour\": 23, \"Consumption\": 15252.290322580646, \"Month\": \"August\"}, {\"Hour\": 22, \"Consumption\": 16663.78801843318, \"Month\": \"August\"}, {\"Hour\": 21, \"Consumption\": 17189.013824884794, \"Month\": \"August\"}, {\"Hour\": 20, \"Consumption\": 16279.612903225807, \"Month\": \"August\"}, {\"Hour\": 19, \"Consumption\": 16282.023041474655, \"Month\": \"August\"}, {\"Hour\": 18, \"Consumption\": 16385.0599078341, \"Month\": \"August\"}, {\"Hour\": 17, \"Consumption\": 16409.10138248848, \"Month\": \"August\"}, {\"Hour\": 16, \"Consumption\": 16461.322580645163, \"Month\": \"August\"}, {\"Hour\": 15, \"Consumption\": 16481.926267281106, \"Month\": \"August\"}, {\"Hour\": 14, \"Consumption\": 16531.294930875578, \"Month\": \"August\"}, {\"Hour\": 13, \"Consumption\": 16421.31797235023, \"Month\": \"August\"}, {\"Hour\": 12, \"Consumption\": 16320.857142857143, \"Month\": \"August\"}, {\"Hour\": 11, \"Consumption\": 16148.47465437788, \"Month\": \"August\"}, {\"Hour\": 10, \"Consumption\": 16033.032258064517, \"Month\": \"August\"}, {\"Hour\": 9, \"Consumption\": 15569.838709677419, \"Month\": \"August\"}, {\"Hour\": 8, \"Consumption\": 14584.640552995392, \"Month\": \"August\"}, {\"Hour\": 7, \"Consumption\": 13959.285714285714, \"Month\": \"August\"}, {\"Hour\": 6, \"Consumption\": 13236.714285714286, \"Month\": \"August\"}, {\"Hour\": 5, \"Consumption\": 12911.382488479263, \"Month\": \"August\"}, {\"Hour\": 4, \"Consumption\": 12841.483870967742, \"Month\": \"August\"}, {\"Hour\": 3, \"Consumption\": 12922.57603686636, \"Month\": \"August\"}, {\"Hour\": 2, \"Consumption\": 13124.161290322581, \"Month\": \"August\"}, {\"Hour\": 1, \"Consumption\": 13606.299539170506, \"Month\": \"August\"}, {\"Hour\": 24, \"Consumption\": 14638.917050691245, \"Month\": \"July\"}, {\"Hour\": 23, \"Consumption\": 15725.460829493088, \"Month\": \"July\"}, {\"Hour\": 22, \"Consumption\": 16929.562211981567, \"Month\": \"July\"}, {\"Hour\": 21, \"Consumption\": 16541.09216589862, \"Month\": \"July\"}, {\"Hour\": 20, \"Consumption\": 16019.041474654377, \"Month\": \"July\"}, {\"Hour\": 19, \"Consumption\": 16300.442396313365, \"Month\": \"July\"}, {\"Hour\": 18, \"Consumption\": 16426.20276497696, \"Month\": \"July\"}, {\"Hour\": 17, \"Consumption\": 16479.760368663596, \"Month\": \"July\"}, {\"Hour\": 16, \"Consumption\": 16533.728110599077, \"Month\": \"July\"}, {\"Hour\": 15, \"Consumption\": 16594.645161290322, \"Month\": \"July\"}, {\"Hour\": 14, \"Consumption\": 16668.184331797234, \"Month\": \"July\"}, {\"Hour\": 13, \"Consumption\": 16571.557603686637, \"Month\": \"July\"}, {\"Hour\": 12, \"Consumption\": 16488.663594470047, \"Month\": \"July\"}, {\"Hour\": 11, \"Consumption\": 16298.073732718894, \"Month\": \"July\"}, {\"Hour\": 10, \"Consumption\": 16178.129032258064, \"Month\": \"July\"}, {\"Hour\": 9, \"Consumption\": 15677.396313364055, \"Month\": \"July\"}, {\"Hour\": 8, \"Consumption\": 14668.52073732719, \"Month\": \"July\"}, {\"Hour\": 7, \"Consumption\": 14068.695852534562, \"Month\": \"July\"}, {\"Hour\": 6, \"Consumption\": 13316.589861751152, \"Month\": \"July\"}, {\"Hour\": 5, \"Consumption\": 12870.059907834102, \"Month\": \"July\"}, {\"Hour\": 4, \"Consumption\": 12898.382488479263, \"Month\": \"July\"}, {\"Hour\": 3, \"Consumption\": 13010.585253456222, \"Month\": \"July\"}, {\"Hour\": 2, \"Consumption\": 13239.064516129032, \"Month\": \"July\"}, {\"Hour\": 1, \"Consumption\": 13792.658986175114, \"Month\": \"July\"}, {\"Hour\": 24, \"Consumption\": 14604.009523809524, \"Month\": \"June\"}, {\"Hour\": 23, \"Consumption\": 15705.685714285713, \"Month\": \"June\"}, {\"Hour\": 22, \"Consumption\": 16826.009523809524, \"Month\": \"June\"}, {\"Hour\": 21, \"Consumption\": 16352.728571428572, \"Month\": \"June\"}, {\"Hour\": 20, \"Consumption\": 15843.880952380952, \"Month\": \"June\"}, {\"Hour\": 19, \"Consumption\": 16089.32380952381, \"Month\": \"June\"}, {\"Hour\": 18, \"Consumption\": 16187.266666666666, \"Month\": \"June\"}, {\"Hour\": 17, \"Consumption\": 16201.680952380952, \"Month\": \"June\"}, {\"Hour\": 16, \"Consumption\": 16262.957142857143, \"Month\": \"June\"}, {\"Hour\": 15, \"Consumption\": 16317.47619047619, \"Month\": \"June\"}, {\"Hour\": 14, \"Consumption\": 16404.54761904762, \"Month\": \"June\"}, {\"Hour\": 13, \"Consumption\": 16325.438095238096, \"Month\": \"June\"}, {\"Hour\": 12, \"Consumption\": 16290.72380952381, \"Month\": \"June\"}, {\"Hour\": 11, \"Consumption\": 16096.504761904762, \"Month\": \"June\"}, {\"Hour\": 10, \"Consumption\": 16020.2, \"Month\": \"June\"}, {\"Hour\": 9, \"Consumption\": 15587.157142857142, \"Month\": \"June\"}, {\"Hour\": 8, \"Consumption\": 14689.580952380953, \"Month\": \"June\"}, {\"Hour\": 7, \"Consumption\": 14092.971428571429, \"Month\": \"June\"}, {\"Hour\": 6, \"Consumption\": 13307.166666666666, \"Month\": \"June\"}, {\"Hour\": 5, \"Consumption\": 12783.261904761905, \"Month\": \"June\"}, {\"Hour\": 4, \"Consumption\": 12798.47619047619, \"Month\": \"June\"}, {\"Hour\": 3, \"Consumption\": 12901.528571428571, \"Month\": \"June\"}, {\"Hour\": 2, \"Consumption\": 13153.15238095238, \"Month\": \"June\"}, {\"Hour\": 1, \"Consumption\": 13692.480952380953, \"Month\": \"June\"}, {\"Hour\": 24, \"Consumption\": 14317.861751152073, \"Month\": \"May\"}, {\"Hour\": 23, \"Consumption\": 15333.608294930875, \"Month\": \"May\"}, {\"Hour\": 22, \"Consumption\": 16701.14285714286, \"Month\": \"May\"}, {\"Hour\": 21, \"Consumption\": 16843.36866359447, \"Month\": \"May\"}, {\"Hour\": 20, \"Consumption\": 15868.502304147465, \"Month\": \"May\"}, {\"Hour\": 19, \"Consumption\": 15827.608294930875, \"Month\": \"May\"}, {\"Hour\": 18, \"Consumption\": 15782.225806451614, \"Month\": \"May\"}, {\"Hour\": 17, \"Consumption\": 15711.364055299538, \"Month\": \"May\"}, {\"Hour\": 16, \"Consumption\": 15736.774193548386, \"Month\": \"May\"}, {\"Hour\": 15, \"Consumption\": 15807.608294930875, \"Month\": \"May\"}, {\"Hour\": 14, \"Consumption\": 15912.451612903225, \"Month\": \"May\"}, {\"Hour\": 13, \"Consumption\": 15884.078341013825, \"Month\": \"May\"}, {\"Hour\": 12, \"Consumption\": 15910.866359447005, \"Month\": \"May\"}, {\"Hour\": 11, \"Consumption\": 15778.935483870968, \"Month\": \"May\"}, {\"Hour\": 10, \"Consumption\": 15793.382488479263, \"Month\": \"May\"}, {\"Hour\": 9, \"Consumption\": 15508.175115207374, \"Month\": \"May\"}, {\"Hour\": 8, \"Consumption\": 14766.884792626728, \"Month\": \"May\"}, {\"Hour\": 7, \"Consumption\": 14220.437788018433, \"Month\": \"May\"}, {\"Hour\": 6, \"Consumption\": 13307.870967741936, \"Month\": \"May\"}, {\"Hour\": 5, \"Consumption\": 12772.769585253456, \"Month\": \"May\"}, {\"Hour\": 4, \"Consumption\": 12719.230414746544, \"Month\": \"May\"}, {\"Hour\": 3, \"Consumption\": 12787.207373271889, \"Month\": \"May\"}, {\"Hour\": 2, \"Consumption\": 12997.027649769585, \"Month\": \"May\"}, {\"Hour\": 1, \"Consumption\": 13518.31797235023, \"Month\": \"May\"}, {\"Hour\": 24, \"Consumption\": 15573.066666666668, \"Month\": \"April\"}, {\"Hour\": 23, \"Consumption\": 16719.261904761905, \"Month\": \"April\"}, {\"Hour\": 22, \"Consumption\": 17830.371428571427, \"Month\": \"April\"}, {\"Hour\": 21, \"Consumption\": 18610.152380952382, \"Month\": \"April\"}, {\"Hour\": 20, \"Consumption\": 17736.94761904762, \"Month\": \"April\"}, {\"Hour\": 19, \"Consumption\": 16784.719047619048, \"Month\": \"April\"}, {\"Hour\": 18, \"Consumption\": 16605.74761904762, \"Month\": \"April\"}, {\"Hour\": 17, \"Consumption\": 16652.880952380954, \"Month\": \"April\"}, {\"Hour\": 16, \"Consumption\": 16677.14761904762, \"Month\": \"April\"}, {\"Hour\": 15, \"Consumption\": 16773.257142857143, \"Month\": \"April\"}, {\"Hour\": 14, \"Consumption\": 16920.72380952381, \"Month\": \"April\"}, {\"Hour\": 13, \"Consumption\": 16952.614285714284, \"Month\": \"April\"}, {\"Hour\": 12, \"Consumption\": 17049.780952380952, \"Month\": \"April\"}, {\"Hour\": 11, \"Consumption\": 17262.14285714286, \"Month\": \"April\"}, {\"Hour\": 10, \"Consumption\": 17150.32380952381, \"Month\": \"April\"}, {\"Hour\": 9, \"Consumption\": 16928.938095238096, \"Month\": \"April\"}, {\"Hour\": 8, \"Consumption\": 16207.82380952381, \"Month\": \"April\"}, {\"Hour\": 7, \"Consumption\": 15568.452380952382, \"Month\": \"April\"}, {\"Hour\": 6, \"Consumption\": 14546.904761904761, \"Month\": \"April\"}, {\"Hour\": 5, \"Consumption\": 14090.05238095238, \"Month\": \"April\"}, {\"Hour\": 4, \"Consumption\": 13924.0, \"Month\": \"April\"}, {\"Hour\": 3, \"Consumption\": 13951.961904761905, \"Month\": \"April\"}, {\"Hour\": 2, \"Consumption\": 14177.65238095238, \"Month\": \"April\"}, {\"Hour\": 1, \"Consumption\": 14712.419047619047, \"Month\": \"April\"}, {\"Hour\": 24, \"Consumption\": 17039.566820276497, \"Month\": \"March\"}, {\"Hour\": 23, \"Consumption\": 17929.552995391707, \"Month\": \"March\"}, {\"Hour\": 22, \"Consumption\": 18832.00921658986, \"Month\": \"March\"}, {\"Hour\": 21, \"Consumption\": 19790.78341013825, \"Month\": \"March\"}, {\"Hour\": 20, \"Consumption\": 20138.036866359445, \"Month\": \"March\"}, {\"Hour\": 19, \"Consumption\": 20130.866359447005, \"Month\": \"March\"}, {\"Hour\": 18, \"Consumption\": 19390.26267281106, \"Month\": \"March\"}, {\"Hour\": 17, \"Consumption\": 18904.576036866358, \"Month\": \"March\"}, {\"Hour\": 16, \"Consumption\": 18774.21658986175, \"Month\": \"March\"}, {\"Hour\": 15, \"Consumption\": 18776.082949308755, \"Month\": \"March\"}, {\"Hour\": 14, \"Consumption\": 18892.608294930877, \"Month\": \"March\"}, {\"Hour\": 13, \"Consumption\": 18940.75115207373, \"Month\": \"March\"}, {\"Hour\": 12, \"Consumption\": 19051.30875576037, \"Month\": \"March\"}, {\"Hour\": 11, \"Consumption\": 19287.24884792627, \"Month\": \"March\"}, {\"Hour\": 10, \"Consumption\": 19144.14746543779, \"Month\": \"March\"}, {\"Hour\": 9, \"Consumption\": 18859.926267281106, \"Month\": \"March\"}, {\"Hour\": 8, \"Consumption\": 18044.79723502304, \"Month\": \"March\"}, {\"Hour\": 7, \"Consumption\": 17397.599078341013, \"Month\": \"March\"}, {\"Hour\": 6, \"Consumption\": 16344.857142857143, \"Month\": \"March\"}, {\"Hour\": 5, \"Consumption\": 15788.262672811059, \"Month\": \"March\"}, {\"Hour\": 4, \"Consumption\": 15572.986175115208, \"Month\": \"March\"}, {\"Hour\": 3, \"Consumption\": 15607.341013824886, \"Month\": \"March\"}, {\"Hour\": 2, \"Consumption\": 15797.705069124424, \"Month\": \"March\"}, {\"Hour\": 1, \"Consumption\": 16270.645161290322, \"Month\": \"March\"}, {\"Hour\": 24, \"Consumption\": 18274.872289156625, \"Month\": \"February\"}, {\"Hour\": 23, \"Consumption\": 19166.2, \"Month\": \"February\"}, {\"Hour\": 22, \"Consumption\": 20230.37590361446, \"Month\": \"February\"}, {\"Hour\": 21, \"Consumption\": 20865.61686746988, \"Month\": \"February\"}, {\"Hour\": 20, \"Consumption\": 21246.13734939759, \"Month\": \"February\"}, {\"Hour\": 19, \"Consumption\": 21649.060240963856, \"Month\": \"February\"}, {\"Hour\": 18, \"Consumption\": 21861.173493975904, \"Month\": \"February\"}, {\"Hour\": 17, \"Consumption\": 21461.390361445785, \"Month\": \"February\"}, {\"Hour\": 16, \"Consumption\": 21084.448192771084, \"Month\": \"February\"}, {\"Hour\": 15, \"Consumption\": 20795.990361445783, \"Month\": \"February\"}, {\"Hour\": 14, \"Consumption\": 20809.387951807228, \"Month\": \"February\"}, {\"Hour\": 13, \"Consumption\": 20803.42409638554, \"Month\": \"February\"}, {\"Hour\": 12, \"Consumption\": 20906.872289156625, \"Month\": \"February\"}, {\"Hour\": 11, \"Consumption\": 21118.4578313253, \"Month\": \"February\"}, {\"Hour\": 10, \"Consumption\": 20948.718072289157, \"Month\": \"February\"}, {\"Hour\": 9, \"Consumption\": 20550.202409638554, \"Month\": \"February\"}, {\"Hour\": 8, \"Consumption\": 19525.22891566265, \"Month\": \"February\"}, {\"Hour\": 7, \"Consumption\": 18705.332530120482, \"Month\": \"February\"}, {\"Hour\": 6, \"Consumption\": 17508.64578313253, \"Month\": \"February\"}, {\"Hour\": 5, \"Consumption\": 16845.539759036146, \"Month\": \"February\"}, {\"Hour\": 4, \"Consumption\": 16592.85542168675, \"Month\": \"February\"}, {\"Hour\": 3, \"Consumption\": 16634.04578313253, \"Month\": \"February\"}, {\"Hour\": 2, \"Consumption\": 16863.34698795181, \"Month\": \"February\"}, {\"Hour\": 1, \"Consumption\": 17385.96626506024, \"Month\": \"February\"}, {\"Hour\": 24, \"Consumption\": 17439.001161440185, \"Month\": \"January\"}, {\"Hour\": 23, \"Consumption\": 18349.23925667828, \"Month\": \"January\"}, {\"Hour\": 22, \"Consumption\": 19395.04529616725, \"Month\": \"January\"}, {\"Hour\": 21, \"Consumption\": 20112.81068524971, \"Month\": \"January\"}, {\"Hour\": 20, \"Consumption\": 20508.62950058072, \"Month\": \"January\"}, {\"Hour\": 19, \"Consumption\": 20839.235772357722, \"Month\": \"January\"}, {\"Hour\": 18, \"Consumption\": 20911.076655052264, \"Month\": \"January\"}, {\"Hour\": 17, \"Consumption\": 20717.76887340302, \"Month\": \"January\"}, {\"Hour\": 16, \"Consumption\": 20168.198606271777, \"Month\": \"January\"}, {\"Hour\": 15, \"Consumption\": 19855.29732868757, \"Month\": \"January\"}, {\"Hour\": 14, \"Consumption\": 19852.114982578398, \"Month\": \"January\"}, {\"Hour\": 13, \"Consumption\": 19819.429732868757, \"Month\": \"January\"}, {\"Hour\": 12, \"Consumption\": 19907.58304297329, \"Month\": \"January\"}, {\"Hour\": 11, \"Consumption\": 20119.859465737514, \"Month\": \"January\"}, {\"Hour\": 10, \"Consumption\": 19940.35075493612, \"Month\": \"January\"}, {\"Hour\": 9, \"Consumption\": 19533.668989547037, \"Month\": \"January\"}, {\"Hour\": 8, \"Consumption\": 18543.839721254357, \"Month\": \"January\"}, {\"Hour\": 7, \"Consumption\": 17781.953542392566, \"Month\": \"January\"}, {\"Hour\": 6, \"Consumption\": 16633.346109175378, \"Month\": \"January\"}, {\"Hour\": 5, \"Consumption\": 15964.094076655052, \"Month\": \"January\"}, {\"Hour\": 4, \"Consumption\": 15735.248548199768, \"Month\": \"January\"}, {\"Hour\": 3, \"Consumption\": 15780.267131242741, \"Month\": \"January\"}, {\"Hour\": 2, \"Consumption\": 16009.241579558653, \"Month\": \"January\"}, {\"Hour\": 1, \"Consumption\": 16526.809523809523, \"Month\": \"January\"}]}}, {\"mode\": \"vega-lite\"});\n",
       "</script>"
      ],
      "text/plain": [
       "alt.FacetChart(...)"
      ]
     },
     "execution_count": 205,
     "metadata": {},
     "output_type": "execute_result"
    }
   ],
   "source": [
    "alt.Chart(hourly_gen_df).mark_bar().encode(\n",
    "    x = alt.X('Hour:O'),\n",
    "    y = alt.Y('Consumption:Q'),\n",
    "    tooltip = alt.Tooltip('Consumption')\n",
    ").properties(width = 950/2, height = 500/2).facet(facet = alt.Facet('Month:N'), columns = 2)"
   ]
  },
  {
   "cell_type": "code",
   "execution_count": 14,
   "metadata": {
    "scrolled": true
   },
   "outputs": [],
   "source": [
    "seasons = {'Winter': ['12', '01', '02'], 'Spring': ['03', '04', '05'], \n",
    "           'Summer': ['06', '07', '08'], 'Autumn':['09', '10', '11']}\n",
    "columns = ['Hour', 'Consumption', 'Season']\n",
    "hourly_gen_df = pd.DataFrame(columns = columns)\n",
    "hourly_rows = []\n",
    "for key in seasons:    \n",
    "    for hour in range(24, 0, -1):\n",
    "        mean = df.loc[(df['hour'] == str(hour)) & (df['month'].str.contains('|'.join(seasons[key]))), 'CONSUMPTION'].mean()\n",
    "        row = [hour, mean, key]\n",
    "        zipped = zip(columns, row)\n",
    "        row_dictionary = dict(zipped)\n",
    "        hourly_rows.append(row_dictionary)\n",
    "    \n",
    "    \n",
    "hourly_gen_df = hourly_gen_df.append(hourly_rows)"
   ]
  },
  {
   "cell_type": "code",
   "execution_count": 15,
   "metadata": {},
   "outputs": [
    {
     "data": {
      "text/html": [
       "\n",
       "<div id=\"altair-viz-f679111316eb41f7911efd5f95c0d4c1\"></div>\n",
       "<script type=\"text/javascript\">\n",
       "  (function(spec, embedOpt){\n",
       "    let outputDiv = document.currentScript.previousElementSibling;\n",
       "    if (outputDiv.id !== \"altair-viz-f679111316eb41f7911efd5f95c0d4c1\") {\n",
       "      outputDiv = document.getElementById(\"altair-viz-f679111316eb41f7911efd5f95c0d4c1\");\n",
       "    }\n",
       "    const paths = {\n",
       "      \"vega\": \"https://cdn.jsdelivr.net/npm//vega@5?noext\",\n",
       "      \"vega-lib\": \"https://cdn.jsdelivr.net/npm//vega-lib?noext\",\n",
       "      \"vega-lite\": \"https://cdn.jsdelivr.net/npm//vega-lite@4.8.1?noext\",\n",
       "      \"vega-embed\": \"https://cdn.jsdelivr.net/npm//vega-embed@6?noext\",\n",
       "    };\n",
       "\n",
       "    function loadScript(lib) {\n",
       "      return new Promise(function(resolve, reject) {\n",
       "        var s = document.createElement('script');\n",
       "        s.src = paths[lib];\n",
       "        s.async = true;\n",
       "        s.onload = () => resolve(paths[lib]);\n",
       "        s.onerror = () => reject(`Error loading script: ${paths[lib]}`);\n",
       "        document.getElementsByTagName(\"head\")[0].appendChild(s);\n",
       "      });\n",
       "    }\n",
       "\n",
       "    function showError(err) {\n",
       "      outputDiv.innerHTML = `<div class=\"error\" style=\"color:red;\">${err}</div>`;\n",
       "      throw err;\n",
       "    }\n",
       "\n",
       "    function displayChart(vegaEmbed) {\n",
       "      vegaEmbed(outputDiv, spec, embedOpt)\n",
       "        .catch(err => showError(`Javascript Error: ${err.message}<br>This usually means there's a typo in your chart specification. See the javascript console for the full traceback.`));\n",
       "    }\n",
       "\n",
       "    if(typeof define === \"function\" && define.amd) {\n",
       "      requirejs.config({paths});\n",
       "      require([\"vega-embed\"], displayChart, err => showError(`Error loading script: ${err.message}`));\n",
       "    } else if (typeof vegaEmbed === \"function\") {\n",
       "      displayChart(vegaEmbed);\n",
       "    } else {\n",
       "      loadScript(\"vega\")\n",
       "        .then(() => loadScript(\"vega-lite\"))\n",
       "        .then(() => loadScript(\"vega-embed\"))\n",
       "        .catch(showError)\n",
       "        .then(() => displayChart(vegaEmbed));\n",
       "    }\n",
       "  })({\"config\": {\"view\": {\"continuousWidth\": 400, \"continuousHeight\": 300}}, \"layer\": [{\"mark\": {\"type\": \"circle\", \"size\": 50}, \"encoding\": {\"color\": {\"type\": \"nominal\", \"field\": \"Season\"}, \"tooltip\": {\"type\": \"quantitative\", \"field\": \"Consumption\"}, \"x\": {\"type\": \"nominal\", \"field\": \"Hour\"}, \"y\": {\"type\": \"quantitative\", \"field\": \"Consumption\"}}}, {\"mark\": \"line\", \"encoding\": {\"color\": {\"type\": \"nominal\", \"field\": \"Season\"}, \"x\": {\"type\": \"nominal\", \"field\": \"Hour\"}, \"y\": {\"type\": \"quantitative\", \"field\": \"Consumption\"}}}], \"background\": \"#F9F9F9\", \"data\": {\"name\": \"data-fceffcb19d5b31a953113c66c48a07a5\"}, \"height\": 500, \"padding\": 25, \"width\": 750, \"$schema\": \"https://vega.github.io/schema/vega-lite/v4.8.1.json\", \"datasets\": {\"data-fceffcb19d5b31a953113c66c48a07a5\": [{\"Hour\": 24, \"Consumption\": 18439.62816455696, \"Season\": \"Winter\"}, {\"Hour\": 23, \"Consumption\": 19331.33069620253, \"Season\": \"Winter\"}, {\"Hour\": 22, \"Consumption\": 20396.46993670886, \"Season\": \"Winter\"}, {\"Hour\": 21, \"Consumption\": 21013.37341772152, \"Season\": \"Winter\"}, {\"Hour\": 20, \"Consumption\": 21383.82753164557, \"Season\": \"Winter\"}, {\"Hour\": 19, \"Consumption\": 21799.256329113923, \"Season\": \"Winter\"}, {\"Hour\": 18, \"Consumption\": 22066.699367088608, \"Season\": \"Winter\"}, {\"Hour\": 17, \"Consumption\": 21710.504746835442, \"Season\": \"Winter\"}, {\"Hour\": 16, \"Consumption\": 21243.83860759494, \"Season\": \"Winter\"}, {\"Hour\": 15, \"Consumption\": 20951.446202531646, \"Season\": \"Winter\"}, {\"Hour\": 14, \"Consumption\": 20971.064873417723, \"Season\": \"Winter\"}, {\"Hour\": 13, \"Consumption\": 20977.914556962027, \"Season\": \"Winter\"}, {\"Hour\": 12, \"Consumption\": 21082.824367088608, \"Season\": \"Winter\"}, {\"Hour\": 11, \"Consumption\": 21279.395569620254, \"Season\": \"Winter\"}, {\"Hour\": 10, \"Consumption\": 21065.602848101265, \"Season\": \"Winter\"}, {\"Hour\": 9, \"Consumption\": 20608.351265822785, \"Season\": \"Winter\"}, {\"Hour\": 8, \"Consumption\": 19540.20094936709, \"Season\": \"Winter\"}, {\"Hour\": 7, \"Consumption\": 18736.778481012658, \"Season\": \"Winter\"}, {\"Hour\": 6, \"Consumption\": 17599.183544303796, \"Season\": \"Winter\"}, {\"Hour\": 5, \"Consumption\": 16961.443037974685, \"Season\": \"Winter\"}, {\"Hour\": 4, \"Consumption\": 16727.62183544304, \"Season\": \"Winter\"}, {\"Hour\": 3, \"Consumption\": 16776.03481012658, \"Season\": \"Winter\"}, {\"Hour\": 2, \"Consumption\": 17015.63924050633, \"Season\": \"Winter\"}, {\"Hour\": 1, \"Consumption\": 17547.101265822785, \"Season\": \"Winter\"}, {\"Hour\": 24, \"Consumption\": 15644.26397515528, \"Season\": \"Spring\"}, {\"Hour\": 23, \"Consumption\": 16660.17236024845, \"Season\": \"Spring\"}, {\"Hour\": 22, \"Consumption\": 17787.378881987577, \"Season\": \"Spring\"}, {\"Hour\": 21, \"Consumption\": 18412.64440993789, \"Season\": \"Spring\"}, {\"Hour\": 20, \"Consumption\": 17916.42546583851, \"Season\": \"Spring\"}, {\"Hour\": 19, \"Consumption\": 17589.72049689441, \"Season\": \"Spring\"}, {\"Hour\": 18, \"Consumption\": 17266.517080745343, \"Season\": \"Spring\"}, {\"Hour\": 17, \"Consumption\": 17094.35403726708, \"Season\": \"Spring\"}, {\"Hour\": 16, \"Consumption\": 17066.903726708075, \"Season\": \"Spring\"}, {\"Hour\": 15, \"Consumption\": 17122.740683229815, \"Season\": \"Spring\"}, {\"Hour\": 14, \"Consumption\": 17245.419254658384, \"Season\": \"Spring\"}, {\"Hour\": 13, \"Consumption\": 17262.479813664595, \"Season\": \"Spring\"}, {\"Hour\": 12, \"Consumption\": 17340.44409937888, \"Season\": \"Spring\"}, {\"Hour\": 11, \"Consumption\": 17444.739130434784, \"Season\": \"Spring\"}, {\"Hour\": 10, \"Consumption\": 17364.92546583851, \"Season\": \"Spring\"}, {\"Hour\": 9, \"Consumption\": 17100.861801242238, \"Season\": \"Spring\"}, {\"Hour\": 8, \"Consumption\": 16341.270186335403, \"Season\": \"Spring\"}, {\"Hour\": 7, \"Consumption\": 15730.57298136646, \"Season\": \"Spring\"}, {\"Hour\": 6, \"Consumption\": 14735.23602484472, \"Season\": \"Spring\"}, {\"Hour\": 5, \"Consumption\": 14218.408385093167, \"Season\": \"Spring\"}, {\"Hour\": 4, \"Consumption\": 14073.681677018634, \"Season\": \"Spring\"}, {\"Hour\": 3, \"Consumption\": 14117.281055900621, \"Season\": \"Spring\"}, {\"Hour\": 2, \"Consumption\": 14325.72049689441, \"Season\": \"Spring\"}, {\"Hour\": 1, \"Consumption\": 14835.113354037267, \"Season\": \"Spring\"}, {\"Hour\": 24, \"Consumption\": 14515.49844720497, \"Season\": \"Summer\"}, {\"Hour\": 23, \"Consumption\": 15559.574534161491, \"Season\": \"Summer\"}, {\"Hour\": 22, \"Consumption\": 16806.240683229815, \"Season\": \"Summer\"}, {\"Hour\": 21, \"Consumption\": 16697.990683229815, \"Season\": \"Summer\"}, {\"Hour\": 20, \"Consumption\": 16049.725155279502, \"Season\": \"Summer\"}, {\"Hour\": 19, \"Consumption\": 16225.392857142857, \"Season\": \"Summer\"}, {\"Hour\": 18, \"Consumption\": 16334.425465838509, \"Season\": \"Summer\"}, {\"Hour\": 17, \"Consumption\": 16365.273291925465, \"Season\": \"Summer\"}, {\"Hour\": 16, \"Consumption\": 16421.035714285714, \"Season\": \"Summer\"}, {\"Hour\": 15, \"Consumption\": 16466.282608695652, \"Season\": \"Summer\"}, {\"Hour\": 14, \"Consumption\": 16536.0900621118, \"Season\": \"Summer\"}, {\"Hour\": 13, \"Consumption\": 16440.67701863354, \"Season\": \"Summer\"}, {\"Hour\": 12, \"Consumption\": 16367.574534161491, \"Season\": \"Summer\"}, {\"Hour\": 11, \"Consumption\": 16181.936335403727, \"Season\": \"Summer\"}, {\"Hour\": 10, \"Consumption\": 16077.739130434782, \"Season\": \"Summer\"}, {\"Hour\": 9, \"Consumption\": 15611.728260869566, \"Season\": \"Summer\"}, {\"Hour\": 8, \"Consumption\": 14647.124223602485, \"Season\": \"Summer\"}, {\"Hour\": 7, \"Consumption\": 14039.745341614907, \"Season\": \"Summer\"}, {\"Hour\": 6, \"Consumption\": 13286.60248447205, \"Season\": \"Summer\"}, {\"Hour\": 5, \"Consumption\": 12855.680124223603, \"Season\": \"Summer\"}, {\"Hour\": 4, \"Consumption\": 12846.631987577639, \"Season\": \"Summer\"}, {\"Hour\": 3, \"Consumption\": 12945.368012422361, \"Season\": \"Summer\"}, {\"Hour\": 2, \"Consumption\": 13172.332298136645, \"Season\": \"Summer\"}, {\"Hour\": 1, \"Consumption\": 13697.197204968945, \"Season\": \"Summer\"}, {\"Hour\": 24, \"Consumption\": 15609.437990580847, \"Season\": \"Autumn\"}, {\"Hour\": 23, \"Consumption\": 16560.50235478807, \"Season\": \"Autumn\"}, {\"Hour\": 22, \"Consumption\": 17647.96389324961, \"Season\": \"Autumn\"}, {\"Hour\": 21, \"Consumption\": 18584.766091051806, \"Season\": \"Autumn\"}, {\"Hour\": 20, \"Consumption\": 18891.408163265307, \"Season\": \"Autumn\"}, {\"Hour\": 19, \"Consumption\": 18726.574568288856, \"Season\": \"Autumn\"}, {\"Hour\": 18, \"Consumption\": 18449.156985871272, \"Season\": \"Autumn\"}, {\"Hour\": 17, \"Consumption\": 18259.835164835164, \"Season\": \"Autumn\"}, {\"Hour\": 16, \"Consumption\": 17919.850863422293, \"Season\": \"Autumn\"}, {\"Hour\": 15, \"Consumption\": 17761.709576138146, \"Season\": \"Autumn\"}, {\"Hour\": 14, \"Consumption\": 17771.723704866563, \"Season\": \"Autumn\"}, {\"Hour\": 13, \"Consumption\": 17702.89010989011, \"Season\": \"Autumn\"}, {\"Hour\": 12, \"Consumption\": 17756.447409733126, \"Season\": \"Autumn\"}, {\"Hour\": 11, \"Consumption\": 17974.49136577708, \"Season\": \"Autumn\"}, {\"Hour\": 10, \"Consumption\": 17845.20879120879, \"Season\": \"Autumn\"}, {\"Hour\": 9, \"Consumption\": 17548.96546310832, \"Season\": \"Autumn\"}, {\"Hour\": 8, \"Consumption\": 16736.576138147568, \"Season\": \"Autumn\"}, {\"Hour\": 7, \"Consumption\": 16039.031397174254, \"Season\": \"Autumn\"}, {\"Hour\": 6, \"Consumption\": 14889.854003139717, \"Season\": \"Autumn\"}, {\"Hour\": 5, \"Consumption\": 14237.697017268445, \"Season\": \"Autumn\"}, {\"Hour\": 4, \"Consumption\": 14027.585557299843, \"Season\": \"Autumn\"}, {\"Hour\": 3, \"Consumption\": 14063.397174254316, \"Season\": \"Autumn\"}, {\"Hour\": 2, \"Consumption\": 14262.481946624805, \"Season\": \"Autumn\"}, {\"Hour\": 1, \"Consumption\": 14731.065934065935, \"Season\": \"Autumn\"}]}}, {\"mode\": \"vega-lite\"});\n",
       "</script>"
      ],
      "text/plain": [
       "alt.LayerChart(...)"
      ]
     },
     "execution_count": 15,
     "metadata": {},
     "output_type": "execute_result"
    }
   ],
   "source": [
    "points = alt.Chart(hourly_gen_df).mark_circle(size = 50).encode(\n",
    "    x = alt.X('Hour:N'),\n",
    "    y = alt.Y('Consumption:Q'),\n",
    "    color = alt.Color('Season:N'),\n",
    "    tooltip = alt.Tooltip('Consumption'))\n",
    "\n",
    "line = alt.Chart(hourly_gen_df).mark_line().encode(\n",
    "    x = alt.X('Hour:N'),\n",
    "    y = alt.Y('Consumption:Q'),\n",
    "    color = alt.Color('Season:N'))\n",
    "(points+line).properties(width = 750, height = 500, background = '#F9F9F9', padding = 25)"
   ]
  },
  {
   "cell_type": "markdown",
   "metadata": {},
   "source": [
    "## Як змінюється споживання електроенергії впродовж тижня?"
   ]
  },
  {
   "cell_type": "markdown",
   "metadata": {},
   "source": [
    "У цьому завданні я використала класичний Bar Chart. \n",
    "Альтернативно можна було також реалізувати Radial Bar Chart, але так як різниця у числових значення не є дуже велика, то на цьому графіку потрібно було б суттєво зменшити діапазон значень, щоб помітити різницю.\n",
    "\n",
    "\n",
    "Стовпчики Bar Chart чудово відображають чисельні порівняння між днями тижня. \n",
    "Одна вісь діаграми показує саме дні тижня, які порівнюються, а інша вісь представляє дискретну шкалу значень.\n",
    "Цей графік простий в реалізації та розумінні.\n",
    "Недоліком є те, що незрозумілими є самі числові значення, які визначають кількість спожитої енергії. \n",
    "Цей недолік я усунула опцією tooltip."
   ]
  },
  {
   "cell_type": "code",
   "execution_count": 16,
   "metadata": {},
   "outputs": [],
   "source": [
    "def add_weekday(df):\n",
    "    weekday_column = []\n",
    "    for index, row in df.iterrows():\n",
    "        week_day = datetime.date(int(row['year']), int(row['month']), int(row['day']))\n",
    "        weekday_column.append(week_day.strftime(\"%A\"))\n",
    "    df[\"weekday\"] = weekday_column  \n",
    "    return df"
   ]
  },
  {
   "cell_type": "code",
   "execution_count": 17,
   "metadata": {},
   "outputs": [],
   "source": [
    "weekdays= [\"Monday\", \"Tuesday\", \"Wednesday\", \"Thursday\", \"Friday\", \"Saturday\", \"Sunday\"]\n",
    "columns = ['Weekday', 'Consumption']\n",
    "\n",
    "df_with_weekdays = add_weekday(df)\n",
    "\n",
    "result_df = pd.DataFrame(columns = columns)\n",
    "weekdays_rows = []\n",
    "\n",
    "for d in weekdays:\n",
    "    mean = df_with_weekdays.loc[df_with_weekdays['weekday'] == d, 'CONSUMPTION'].mean()\n",
    "    row = [d, mean]\n",
    "    zipped = zip(columns, row)\n",
    "    row_dictionary = dict(zipped)\n",
    "    weekdays_rows.append(row_dictionary)\n",
    "\n",
    "result_df = result_df.append(weekdays_rows)"
   ]
  },
  {
   "cell_type": "code",
   "execution_count": 18,
   "metadata": {},
   "outputs": [
    {
     "data": {
      "text/html": [
       "\n",
       "<div id=\"altair-viz-132d845a9e6643dcaae872759f9bc5ca\"></div>\n",
       "<script type=\"text/javascript\">\n",
       "  (function(spec, embedOpt){\n",
       "    let outputDiv = document.currentScript.previousElementSibling;\n",
       "    if (outputDiv.id !== \"altair-viz-132d845a9e6643dcaae872759f9bc5ca\") {\n",
       "      outputDiv = document.getElementById(\"altair-viz-132d845a9e6643dcaae872759f9bc5ca\");\n",
       "    }\n",
       "    const paths = {\n",
       "      \"vega\": \"https://cdn.jsdelivr.net/npm//vega@5?noext\",\n",
       "      \"vega-lib\": \"https://cdn.jsdelivr.net/npm//vega-lib?noext\",\n",
       "      \"vega-lite\": \"https://cdn.jsdelivr.net/npm//vega-lite@4.8.1?noext\",\n",
       "      \"vega-embed\": \"https://cdn.jsdelivr.net/npm//vega-embed@6?noext\",\n",
       "    };\n",
       "\n",
       "    function loadScript(lib) {\n",
       "      return new Promise(function(resolve, reject) {\n",
       "        var s = document.createElement('script');\n",
       "        s.src = paths[lib];\n",
       "        s.async = true;\n",
       "        s.onload = () => resolve(paths[lib]);\n",
       "        s.onerror = () => reject(`Error loading script: ${paths[lib]}`);\n",
       "        document.getElementsByTagName(\"head\")[0].appendChild(s);\n",
       "      });\n",
       "    }\n",
       "\n",
       "    function showError(err) {\n",
       "      outputDiv.innerHTML = `<div class=\"error\" style=\"color:red;\">${err}</div>`;\n",
       "      throw err;\n",
       "    }\n",
       "\n",
       "    function displayChart(vegaEmbed) {\n",
       "      vegaEmbed(outputDiv, spec, embedOpt)\n",
       "        .catch(err => showError(`Javascript Error: ${err.message}<br>This usually means there's a typo in your chart specification. See the javascript console for the full traceback.`));\n",
       "    }\n",
       "\n",
       "    if(typeof define === \"function\" && define.amd) {\n",
       "      requirejs.config({paths});\n",
       "      require([\"vega-embed\"], displayChart, err => showError(`Error loading script: ${err.message}`));\n",
       "    } else if (typeof vegaEmbed === \"function\") {\n",
       "      displayChart(vegaEmbed);\n",
       "    } else {\n",
       "      loadScript(\"vega\")\n",
       "        .then(() => loadScript(\"vega-lite\"))\n",
       "        .then(() => loadScript(\"vega-embed\"))\n",
       "        .catch(showError)\n",
       "        .then(() => displayChart(vegaEmbed));\n",
       "    }\n",
       "  })({\"config\": {\"view\": {\"continuousWidth\": 400, \"continuousHeight\": 300}}, \"data\": {\"name\": \"data-09c76e7ae3ccd8f039591eb100a92455\"}, \"mark\": \"bar\", \"encoding\": {\"tooltip\": {\"type\": \"quantitative\", \"field\": \"Consumption\"}, \"x\": {\"type\": \"ordinal\", \"field\": \"Weekday\", \"sort\": null}, \"y\": {\"type\": \"quantitative\", \"field\": \"Consumption\", \"scale\": {\"domain\": [15000, 17500]}}}, \"height\": 600, \"width\": 800, \"$schema\": \"https://vega.github.io/schema/vega-lite/v4.8.1.json\", \"datasets\": {\"data-09c76e7ae3ccd8f039591eb100a92455\": [{\"Weekday\": \"Monday\", \"Consumption\": 17168.10696347032}, {\"Weekday\": \"Tuesday\", \"Consumption\": 17310.62328767123}, {\"Weekday\": \"Wednesday\", \"Consumption\": 17384.58299180328}, {\"Weekday\": \"Thursday\", \"Consumption\": 17396.080487249546}, {\"Weekday\": \"Friday\", \"Consumption\": 17306.823401826485}, {\"Weekday\": \"Saturday\", \"Consumption\": 16743.430136986302}, {\"Weekday\": \"Sunday\", \"Consumption\": 16192.543721461187}]}}, {\"mode\": \"vega-lite\"});\n",
       "</script>"
      ],
      "text/plain": [
       "alt.Chart(...)"
      ]
     },
     "execution_count": 18,
     "metadata": {},
     "output_type": "execute_result"
    }
   ],
   "source": [
    "alt.Chart(result_df).mark_bar().encode(\n",
    "    \n",
    "    x = alt.X('Weekday:O', sort=None),\n",
    "    y = alt.Y('Consumption:Q',\n",
    "             scale = alt. Scale(domain = [15000, 17500])),\n",
    "    tooltip = alt.Tooltip('Consumption')\n",
    "    ).properties(width = 800, height = 600)"
   ]
  }
 ],
 "metadata": {
  "kernelspec": {
   "display_name": "Python 3",
   "language": "python",
   "name": "python3"
  },
  "language_info": {
   "codemirror_mode": {
    "name": "ipython",
    "version": 3
   },
   "file_extension": ".py",
   "mimetype": "text/x-python",
   "name": "python",
   "nbconvert_exporter": "python",
   "pygments_lexer": "ipython3",
   "version": "3.7.0"
  }
 },
 "nbformat": 4,
 "nbformat_minor": 4
}
